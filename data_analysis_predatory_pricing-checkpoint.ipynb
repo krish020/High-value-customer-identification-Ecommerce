{
 "cells": [
  {
   "cell_type": "markdown",
   "metadata": {
    "id": "BDR-6t_fBzbY"
   },
   "source": [
    "# ~MegaMachine~\n",
    "\n",
    "**Copyright@~MEGAMACHINE~**; \n",
    "\n",
    "Licensed under the Apache License, Version 2.0 (the \"License\");\n",
    "you may not use this file except in compliance with the License. You may obtain a copy of the License at https://www.apache.org/licenses/LICENSE-2.0. Unless required by applicable law or agreed to in writing, software\n",
    "distributed under the License is distributed on an \"AS IS\" BASIS,\n",
    "WITHOUT WARRANTIES OR CONDITIONS OF ANY KIND, either express or implied.\n",
    "See the License for the specific language governing permissions and\n",
    "limitations under the License.\n",
    "\n",
    "**Disclosure: Nothing in this lecture should be considered as investment or business advices. Past performance is not necessarily indicative of future returns. Predatory Pricing Dataset and Customers Dataset during these lectures is only taken as the general example to show, how one can do data analysis using pandas (in python). I AM NOT REPOSIBLE FOR YOUR ANY KIND OF LOSS/PROFIT IN/ON YOUR BUSINESS/STOCKS RETURNS. Consider a financial adviser before investing or invest at your own risk.**"
   ]
  },
  {
   "cell_type": "code",
   "execution_count": 1,
   "metadata": {
    "id": "gC1HMHhLyX5g"
   },
   "outputs": [
    {
     "name": "stdout",
     "output_type": "stream",
     "text": [
      "numpy version: 1.23.1\n",
      "pandas version:  1.4.3\n",
      "pyplot:  <module 'matplotlib.pyplot' from 'C:\\\\Users\\\\ankit.k\\\\AppData\\\\Local\\\\Programs\\\\Python\\\\Python310\\\\lib\\\\site-packages\\\\matplotlib\\\\pyplot.py'>\n"
     ]
    }
   ],
   "source": [
    "\n",
    "import numpy as np, pandas as pd, matplotlib.pyplot as plt\n",
    "\n",
    "\n",
    "print('numpy version:',np.__version__)\n",
    "print('pandas version: ',pd.__version__)\n",
    "print('pyplot: ',plt)"
   ]
  },
  {
   "cell_type": "markdown",
   "metadata": {
    "id": "wkIzlskFzBwA"
   },
   "source": [
    "# About Dataset – Predatory Pricing Dataset from Amazon\n",
    "\n",
    "Description: Data on the unfair pricing and discounting practices by sellers on amazon during the COVID-19 crisis. Sellers on Amazon are using the Covid19 crisis to exploit the consumers. This data contains information on the product details, prices, discounts, reviews, listed date, and other key data points to understand the unfair practices.\n",
    "\n",
    "Dataset source ([data.world](https://data.world/)) https://data.world/data-hut/predatory-pricing-data-from-amazon \n",
    "\n",
    "Dataset download links ([amazon-final.csv](https://query.data.world/s/mswpa2fvoyy4fsycneexuogbahgaxm), [amazon_2020-03-09(1).csv](https://query.data.world/s/y5m7cu66tmmmfpmm3wgh6hbvkapmaa)), direct link: [direct_drive_link](https://drive.google.com/drive/folders/1HoaQ_ijXxNx0h3VHDnUY5o5867YhJMI4?usp=sharing)\n",
    "\n",
    "**NOTE: Data is available under education license only. Don’t use dataset other than educational purposes.**\n"
   ]
  },
  {
   "cell_type": "code",
   "execution_count": null,
   "metadata": {
    "id": "lnD10pkGzBKR"
   },
   "outputs": [],
   "source": [
    "#!wget -O predatory_pricing_processed https://query.data.world/s/oh2altdijecuodbyfb4xqumnwgnecq \n",
    "#!wget -O predatory_pricing_unprocessed https://query.data.world/s/cogmqzeegvpziizs7nahhvbbj3uhdq\n",
    "\n",
    "# Read dataset \n",
    "processed_data_file_link_csv='https://query.data.world/s/oh2altdijecuodbyfb4xqumnwgnecq'\n",
    "data=pd.read_csv(processed_data_file_link_csv,sep=';')\n",
    "\n",
    "unprocessed_data_file_link_csv='https://query.data.world/s/cogmqzeegvpziizs7nahhvbbj3uhdq'\n",
    "data_raw=pd.read_csv(unprocessed_data_file_link_csv,sep=',')"
   ]
  },
  {
   "cell_type": "markdown",
   "metadata": {
    "id": "NkCdI1qvRfTk"
   },
   "source": [
    "## processed data "
   ]
  },
  {
   "cell_type": "code",
   "execution_count": null,
   "metadata": {
    "id": "PcIthjkN2Byx"
   },
   "outputs": [],
   "source": [
    "data.head(3)"
   ]
  },
  {
   "cell_type": "code",
   "execution_count": null,
   "metadata": {
    "id": "JSaLUY992CkH"
   },
   "outputs": [],
   "source": [
    "# rename columns \n",
    "column_dict=dict(zip(data.columns,['_'.join(c_names.split(' ')) for c_names in data.columns]))\n",
    "# \n",
    "data.rename(columns=column_dict,inplace=True)\n",
    "\n",
    "# Make a copy \n",
    "data_original=data.copy()\n",
    "\n",
    "# Remove unwanted columns \n",
    "data.drop(labels=None,axis=0,index=None,columns=['product_name','product_url','image_url','product_description',\n",
    "                                                 'date_first_available'],level=None,inplace=True,errors='raise')\n",
    "\n",
    "# re-arange columns \n",
    "data=data[data.columns.insert(2,data.columns[-1])[:-1]]\n",
    "\n",
    "data.head(3)"
   ]
  },
  {
   "cell_type": "code",
   "execution_count": null,
   "metadata": {
    "id": "usNQqOzooGY7"
   },
   "outputs": [],
   "source": [
    "# data size \n",
    "data.shape"
   ]
  },
  {
   "cell_type": "code",
   "execution_count": null,
   "metadata": {
    "id": "cJHOgA07Tcxn"
   },
   "outputs": [],
   "source": [
    "# Get info \n",
    "data.info()"
   ]
  },
  {
   "cell_type": "code",
   "execution_count": null,
   "metadata": {
    "id": "_2en6hkrn9gE"
   },
   "outputs": [],
   "source": [
    "# get null values \n",
    "data.isna().sum()"
   ]
  },
  {
   "cell_type": "markdown",
   "metadata": {
    "id": "lur_UnvfVSKT"
   },
   "source": [
    "### change data type"
   ]
  },
  {
   "cell_type": "code",
   "execution_count": null,
   "metadata": {
    "id": "-tAh0ReUUGlC"
   },
   "outputs": [],
   "source": [
    "# change discount_percentage type (remove \"%\") ..\n",
    "data.discount_percentage=data.discount_percentage.apply(lambda value: float(value.split('%')[0])/100,convert_dtype=True, args=())"
   ]
  },
  {
   "cell_type": "code",
   "execution_count": null,
   "metadata": {
    "id": "A7Lpvt64nN74"
   },
   "outputs": [],
   "source": [
    "# info \n",
    "data.info()"
   ]
  },
  {
   "cell_type": "markdown",
   "metadata": {
    "id": "LUxGTdK8ttKb"
   },
   "source": [
    "### procesed strings "
   ]
  },
  {
   "cell_type": "code",
   "execution_count": null,
   "metadata": {
    "id": "oD7TfFRcUZ9r"
   },
   "outputs": [],
   "source": [
    "# get brand name set \n",
    "print('unique value counts: ',len(data.brand_name.unique()),'out of',data.shape[0])\n",
    "data.brand_name.unique()"
   ]
  },
  {
   "cell_type": "code",
   "execution_count": null,
   "metadata": {
    "id": "60thW7vpWJVv"
   },
   "outputs": [],
   "source": [
    "# remove punctuation\n",
    "from string import punctuation\n",
    "# maketrans: x->y, z->None } mapping \n",
    "# translate: -> map x->y using mapper (e.g. dict)\n",
    "\n",
    "data.brand_name.apply(lambda value: '_'.join(value.lower().translate(str.maketrans('','',punctuation)).split(' '))).unique()"
   ]
  },
  {
   "cell_type": "code",
   "execution_count": null,
   "metadata": {
    "id": "eVIiZWl2WYsI"
   },
   "outputs": [],
   "source": [
    "# apply to - brand_name,seller_name\n",
    "\n",
    "print('intinal brand_name counts:',len(data.brand_name.unique()))\n",
    "print('intinal seller_name counts:',len(data.seller_name.unique()))\n",
    "\n",
    "data.brand_name=data.brand_name.apply(lambda value: '_'.join(value.lower().translate(str.maketrans('','',punctuation)).split(' ')))\n",
    "data.seller_name=data.seller_name.apply(lambda value: '_'.join(value.lower().translate(str.maketrans('','',punctuation)).split(' ')))\n",
    "\n",
    "print('final brand_name counts:',len(data.brand_name.unique()))\n",
    "print('final seller_name counts:',len(data.seller_name.unique()))"
   ]
  },
  {
   "cell_type": "markdown",
   "metadata": {
    "id": "ATEltsaMZKqW"
   },
   "source": [
    "### under value brand_name, seller_name"
   ]
  },
  {
   "cell_type": "code",
   "execution_count": null,
   "metadata": {
    "id": "cqCK73qucYwF"
   },
   "outputs": [],
   "source": [
    "# \n",
    "data.describe()[['mrp','sale_price','discount_percentage']].T"
   ]
  },
  {
   "cell_type": "code",
   "execution_count": null,
   "metadata": {
    "id": "tfmcFxQSZKLP"
   },
   "outputs": [],
   "source": [
    "# get under value brand_name, seller_name\n",
    "data_uv=data[data.discount_percentage>data.discount_percentage.mean()]\n",
    "#\n",
    "print('number of brand_name under value',len(data_uv.brand_name.unique()))\n",
    "print(sorted(data_uv.brand_name.unique(),reverse=False))\n",
    "print('number of brand_name under value',len(data_uv.seller_name.unique()))\n",
    "print(sorted(data_uv.seller_name.unique(),reverse=False))"
   ]
  },
  {
   "cell_type": "code",
   "execution_count": null,
   "metadata": {
    "id": "GUBrlCUYbuig"
   },
   "outputs": [],
   "source": [
    "# get high under value brand_name, seller_name\n",
    "data_huv=data[data.discount_percentage>data.discount_percentage.mean()*1.5]\n",
    "#\n",
    "print('number of brand_name under value',len(data_huv.brand_name.unique()))\n",
    "print(sorted(data_huv.brand_name.unique(),reverse=False))\n",
    "print('number of brand_name under value',len(data_huv.seller_name.unique()))\n",
    "print(sorted(data_huv.seller_name.unique(),reverse=False))"
   ]
  },
  {
   "cell_type": "markdown",
   "metadata": {
    "id": "mJndg3VsMRzU"
   },
   "source": [
    "## count plots "
   ]
  },
  {
   "cell_type": "code",
   "execution_count": null,
   "metadata": {
    "id": "pWpldl29MW4C"
   },
   "outputs": [],
   "source": [
    "# plot figure \n",
    "plt.figure(figsize=(20,7))\n",
    "# plot unique value count \n",
    "data.nunique().plot.bar()\n",
    "plt.show()"
   ]
  },
  {
   "cell_type": "markdown",
   "metadata": {
    "id": "Zgd_0q2ciCO8"
   },
   "source": [
    "### two class"
   ]
  },
  {
   "cell_type": "code",
   "execution_count": null,
   "metadata": {
    "id": "9du4VUcYgFQk"
   },
   "outputs": [],
   "source": [
    "# make classes - two\n",
    "data['true_2_cls']=['uv' if value>data.discount_percentage.mean() else 'nuv' for value in data.discount_percentage]"
   ]
  },
  {
   "cell_type": "code",
   "execution_count": null,
   "metadata": {
    "id": "_PjG_FVzfog1"
   },
   "outputs": [],
   "source": [
    "# import \n",
    "import seaborn as sns\n",
    "\n",
    "# plot pair plot \n",
    "sns.pairplot(data[['mrp','sale_price','discount_percentage','true_2_cls']],hue='true_2_cls')\n",
    "plt.plot()"
   ]
  },
  {
   "cell_type": "markdown",
   "metadata": {
    "id": "KC5yLWBpiJgZ"
   },
   "source": [
    "### three class"
   ]
  },
  {
   "cell_type": "code",
   "execution_count": null,
   "metadata": {
    "id": "uSS_oRoSiNCz"
   },
   "outputs": [],
   "source": [
    "# make classes - two\n",
    "data['true_3_cls']=['nuv' if value<data.discount_percentage.mean() else 'huv' if value>data.discount_percentage.mean()*1.5 else 'uv' for value in data.discount_percentage]"
   ]
  },
  {
   "cell_type": "code",
   "execution_count": null,
   "metadata": {
    "id": "Jr0PdVsTjbhR"
   },
   "outputs": [],
   "source": [
    "# plot pair plot \n",
    "sns.pairplot(data[['mrp','sale_price','discount_percentage','true_3_cls']],hue='true_3_cls')\n",
    "plt.plot()"
   ]
  },
  {
   "cell_type": "markdown",
   "metadata": {
    "id": "osNI5sb0XuUG"
   },
   "source": [
    "#### worse five products "
   ]
  },
  {
   "cell_type": "code",
   "execution_count": null,
   "metadata": {
    "id": "HEiE1fauR6pI"
   },
   "outputs": [],
   "source": [
    "worse_sorted=data_original.sort_values('discount_percentage',axis=0,ascending=False,inplace=False,\n",
    "                                       kind='quicksort',na_position='last',ignore_index=False,key=None)\n",
    "data_original.iloc[:5]['product_url'].values  "
   ]
  },
  {
   "cell_type": "markdown",
   "metadata": {
    "id": "I0Cg3aL1wNpl"
   },
   "source": [
    "## prediction (sample)"
   ]
  },
  {
   "cell_type": "code",
   "execution_count": null,
   "metadata": {
    "id": "3QJ2yUZUsgyQ"
   },
   "outputs": [],
   "source": [
    "# data \n",
    "X=data.loc[:,['discount_percentage']].values\n",
    "\n",
    "# import function \n",
    "from sklearn.preprocessing import normalize\n",
    "# doc -> https://scikit-learn.org/stable/modules/generated/sklearn.preprocessing.Normalizer.html#sklearn.preprocessing.Normalizer\n",
    "\n",
    "X_norm,norms_of_x=normalize(X,norm='l2',axis=0,copy=True,return_norm=True)\n",
    "\n",
    "# import module\n",
    "from sklearn.cluster import KMeans\n",
    "# source: https://scikit-learn.org/stable/modules/generated/sklearn.cluster.KMeans.html\n",
    "\n",
    "clusterer_=KMeans(n_clusters=2,random_state=10,n_init=3,max_iter=3)\n",
    "clusterer_.fit(X_norm)\n",
    "print('cluster_centers_:',clusterer_.cluster_centers_)"
   ]
  },
  {
   "cell_type": "code",
   "execution_count": null,
   "metadata": {
    "id": "PTxZTuv9IRfr"
   },
   "outputs": [],
   "source": [
    "# import Label-Encoder\n",
    "from sklearn.preprocessing import LabelEncoder\n",
    "\n",
    "encoder_cls_2_=LabelEncoder()\n",
    "\n",
    "plt.figure(figsize=(15,10))\n",
    "#plt.scatter(range(data.discount_percentage.shape[0]),data.discount_percentage,c=encoder_cls_2_.fit_transform(data.true_2_cls.values))\n",
    "plt.scatter(range(data.discount_percentage.shape[0]),data.discount_percentage,c=['r' if value==0 else 'g' for value in clusterer_.labels_],marker='1')\n",
    "plt.plot([0,data.discount_percentage.shape[0]],[data.discount_percentage.mean()]*2)\n",
    "plt.grid()\n",
    "plt.show()"
   ]
  },
  {
   "cell_type": "markdown",
   "metadata": {
    "id": "3M2O1-PKp1U5"
   },
   "source": [
    "## feature_selection"
   ]
  },
  {
   "cell_type": "code",
   "execution_count": null,
   "metadata": {
    "id": "GrhyrDzQq4HT"
   },
   "outputs": [],
   "source": [
    "data.columns"
   ]
  },
  {
   "cell_type": "code",
   "execution_count": null,
   "metadata": {
    "id": "w42f4zXlfIIX"
   },
   "outputs": [],
   "source": [
    "# data \n",
    "X_fs=data.values[:,1:-3]\n",
    "# labels \n",
    "y_fs=data.true_3_cls.values\n",
    "\n",
    "# preprocess \n",
    "\n",
    "# import Label-Encoder\n",
    "from sklearn.preprocessing import LabelEncoder\n",
    "\n",
    "# make encoder \n",
    "encoder_cls_3_brand_name=LabelEncoder()\n",
    "encoder_cls_3_seller_name=LabelEncoder()\n",
    "encoder_cls_labels=LabelEncoder()\n",
    "# transform\n",
    "X_fs[:,0]=encoder_cls_3_brand_name.fit_transform(X_fs[:,0])\n",
    "X_fs[:,1]=encoder_cls_3_seller_name.fit_transform(X_fs[:,1])\n",
    "y_fs=encoder_cls_labels.fit_transform(y_fs)\n",
    "\n",
    "# copy data\n",
    "X_fs_norm=X_fs.copy()\n",
    "\n",
    "# normalize - import function \n",
    "from sklearn.preprocessing import normalize\n",
    "# doc -> https://scikit-learn.org/stable/modules/generated/sklearn.preprocessing.Normalizer.html#sklearn.preprocessing.Normalizer\n",
    "\n",
    "X_fs_norm[:,2:4],norms_of_x=normalize(X_fs_norm[:,2:4],norm='l1',axis=0,copy=True,return_norm=True)\n",
    "\n",
    "X_fs[:2],X_fs_norm[:2],set(y_fs)"
   ]
  },
  {
   "cell_type": "code",
   "execution_count": null,
   "metadata": {
    "id": "w80Kf5J5q2qy"
   },
   "outputs": [],
   "source": [
    "# source - https://scikit-learn.org/stable/modules/generated/sklearn.model_selection.cross_validate.html\n",
    "# source - https://scikit-learn.org/stable/modules/generated/sklearn.model_selection.KFold.html\n",
    "# source - https://scikit-learn.org/stable/modules/generated/sklearn.model_selection.GridSearchCV.html\n",
    "from sklearn.model_selection import cross_validate,KFold,GridSearchCV\n",
    "# source - https://scikit-learn.org/stable/modules/generated/sklearn.feature_selection.RFE.html\n",
    "from sklearn.feature_selection import RFE\n",
    "\n",
    "\n",
    "# creating a KFold object with 5 splits \n",
    "folds = KFold(n_splits=5,shuffle=True,random_state=100)\n",
    "\n",
    "# specify range of hyperparameters\n",
    "hyper_params = [{'n_features_to_select':list(range(1,X_fs.shape[1]))}]\n",
    "\n",
    "# load model \n",
    "from sklearn.tree import DecisionTreeClassifier\n",
    "# source: https://scikit-learn.org/stable/modules/generated/sklearn.tree.DecisionTreeClassifier.html\n",
    "\n",
    "# make model - Test classifier - DecisionTreeRegressor\n",
    "test_tree_single=DecisionTreeClassifier()\n",
    "# train \n",
    "test_tree_single.fit(X_fs_norm,y_fs)\n",
    "\n",
    "# set up GridSearchCV()\n",
    "# score - source: https://scikit-learn.org/stable/modules/model_evaluation.html#scoring-parameter\n",
    "\n",
    "model_f_select = GridSearchCV(estimator=RFE(test_tree_single),param_grid=hyper_params,scoring=None, \n",
    "                              cv=folds,verbose=1,return_train_score=True) \n",
    "\n",
    "# fit the model\n",
    "model_f_select.fit(X_fs_norm,y_fs) "
   ]
  },
  {
   "cell_type": "code",
   "execution_count": null,
   "metadata": {
    "id": "gFU7WMZau75q"
   },
   "outputs": [],
   "source": [
    "# cv results\n",
    "results_ = pd.DataFrame(model_f_select.cv_results_)\n",
    "results_"
   ]
  },
  {
   "cell_type": "code",
   "execution_count": null,
   "metadata": {
    "id": "wvyXU6dovzx4"
   },
   "outputs": [],
   "source": [
    "# plotting cv results\n",
    "plt.figure(figsize=(16,6))\n",
    "\n",
    "plt.plot(results_[\"param_n_features_to_select\"], results_[\"mean_test_score\"])\n",
    "plt.plot(results_[\"param_n_features_to_select\"], results_[\"mean_train_score\"])\n",
    "plt.xlabel('number of features')\n",
    "plt.ylabel('r-squared')\n",
    "plt.title(\"Optimal Number of Features\")\n",
    "plt.legend(['test score', 'train score'], loc='upper left')\n",
    "plt.show()"
   ]
  },
  {
   "cell_type": "markdown",
   "metadata": {
    "id": "2hnk5Gdv6wwr"
   },
   "source": [
    "## Classifier comparison "
   ]
  },
  {
   "cell_type": "code",
   "execution_count": null,
   "metadata": {
    "id": "Y-X2ivyX0run"
   },
   "outputs": [],
   "source": [
    "\n",
    "# call main classifiers - \n",
    "\n",
    "#from sklearn.neural_network import MLPClassifier\n",
    "from sklearn.neighbors import KNeighborsClassifier\n",
    "from sklearn.svm import SVC\n",
    "from sklearn.tree import DecisionTreeClassifier\n",
    "\n",
    "# names \n",
    "names=[\"Nearest Neighbors\",\"Linear SVM\",\"Decision Tree\"]\n",
    "# make classifiers\n",
    "classifiers_=[KNeighborsClassifier(n_neighbors=3),SVC(kernel='linear'),\n",
    "              DecisionTreeClassifier()]\n",
    "\n",
    "# split\n",
    "from sklearn.model_selection import train_test_split\n",
    "# Source: https://scikit-learn.org/stable/modules/generated/sklearn.model_selection.train_test_split.html\n",
    "\n",
    "# labels\n",
    "y_fs_2_cls=data.true_2_cls.values\n",
    "# fit transform\n",
    "label_encoder_2_cls=LabelEncoder()\n",
    "y_fs_2_cls=label_encoder_2_cls.fit_transform(y_fs_2_cls)\n",
    "\n",
    "# split data - only by 'brand_name', 'seller_name'\n",
    "X_train,X_test,y_train,y_test=train_test_split(X_fs_norm[:,:2],y_fs_2_cls,test_size=0.30,random_state=8)\n",
    "\n",
    "# shape \n",
    "X_train.shape,X_test.shape,y_train.shape,y_test.shape,set(y_fs_2_cls)"
   ]
  },
  {
   "cell_type": "code",
   "execution_count": null,
   "metadata": {
    "id": "2XBQ5-mp7o2P"
   },
   "outputs": [],
   "source": [
    "# make mesh \n",
    "h = .02  # step size in the mesh\n",
    "x_min, x_max = X_fs_norm[:, 0].min()-.5,X_fs_norm[:, 0].max()+.5\n",
    "y_min, y_max = X_fs_norm[:, 1].min()-.5,X_fs_norm[:, 1].max()+.5\n",
    "xx,yy=np.meshgrid(np.arange(x_min,x_max,h),np.arange(y_min,y_max,h))\n",
    "\n",
    "# get color map \n",
    "from matplotlib.colors import ListedColormap\n",
    "#\n",
    "cmap=ListedColormap(['#FF0000','#0000FF'])\n",
    "#\n",
    "cm=plt.cm.RdBu\n",
    "\n",
    "fig=plt.figure(figsize=(15,10))\n",
    "\n",
    "# plot train \n",
    "ax=fig.add_subplot(2,len(classifiers_)+1,1)\n",
    "# Plot the training points\n",
    "ax.scatter(X_train[:,0],X_train[:,1],c=y_train,cmap=cmap,edgecolors='k')\n",
    "ax.set_xlim(xx.min(),xx.max()),ax.set_ylim(yy.min(), yy.max())\n",
    "ax.set_xticks(()),ax.set_yticks(())\n",
    "\n",
    "# plot test \n",
    "ax=fig.add_subplot(2,len(classifiers_)+1,len(classifiers_)+2)\n",
    "# Plot the testing points\n",
    "ax.scatter(X_test[:,0],X_test[:,1],cmap=cmap,c=y_test,edgecolors='k')\n",
    "ax.set_xlim(xx.min(),xx.max()),ax.set_ylim(yy.min(), yy.max())\n",
    "ax.set_xticks(()),ax.set_yticks(())\n",
    "\n",
    "# iterate over dataset - traning\n",
    "for plt_number,name_n_clf in enumerate(zip(names,classifiers_),2):\n",
    "\n",
    "  ax=fig.add_subplot(2,len(classifiers_)+1,plt_number)\n",
    "\n",
    "  # train /fit data\n",
    "  name_n_clf[1].fit(X_train,y_train)\n",
    "  score=name_n_clf[1].score(X_test,y_test)\n",
    "\n",
    "  # Plot the decision boundary. For that, we will assign a color to each\n",
    "  # point in the mesh [x_min, x_max]x[y_min, y_max].\n",
    "  if hasattr(name_n_clf[1], \"decision_function\"): \n",
    "    Z=name_n_clf[1].decision_function(np.c_[xx.ravel(),yy.ravel()])\n",
    "  else:\n",
    "    Z=name_n_clf[1].predict_proba(np.c_[xx.ravel(),yy.ravel()])[:,1]\n",
    "\n",
    "  # Put the result into a color plot\n",
    "  Z=Z.reshape(xx.shape)\n",
    "  ax.contourf(xx,yy,Z,cmap=cm,alpha=.8)\n",
    "\n",
    "  # Plot the training points\n",
    "  ax.scatter(X_train[:, 0],X_train[:, 1],c=y_train,cmap=cmap,edgecolors='k')\n",
    "  #\n",
    "  ax.set_xlim(xx.min(),xx.max()),ax.set_ylim(yy.min(), yy.max())\n",
    "  ax.set_xticks(()),ax.set_yticks(())\n",
    "\n",
    "  # Plot test points \n",
    "  ax=fig.add_subplot(2,len(classifiers_)+1,4+plt_number)\n",
    "  ax.contourf(xx,yy,Z,cmap=cm,alpha=.8)\n",
    "  # plot points - test\n",
    "  ax.scatter(X_test[:,0],X_test[:,1],c=y_test,cmap=cmap,edgecolors='k')\n",
    "  #\n",
    "  ax.set_xlim(xx.min(),xx.max()),ax.set_ylim(yy.min(), yy.max())\n",
    "  ax.set_xticks(()),ax.set_yticks(())\n",
    "  ax.text(xx.max()-.3,yy.min()+.3,('%.2f'%score).lstrip('0'),size=15,horizontalalignment='right')\n",
    "\n",
    "plt.tight_layout()\n",
    "plt.show()"
   ]
  }
 ],
 "metadata": {
  "colab": {
   "collapsed_sections": [
    "BDR-6t_fBzbY",
    "p_9xvsa9eF-K",
    "wkIzlskFzBwA",
    "lur_UnvfVSKT",
    "ATEltsaMZKqW",
    "mJndg3VsMRzU",
    "Zgd_0q2ciCO8",
    "KC5yLWBpiJgZ",
    "osNI5sb0XuUG",
    "I0Cg3aL1wNpl",
    "3M2O1-PKp1U5",
    "2hnk5Gdv6wwr"
   ],
   "name": "Copy of data_analysis_predatory_pricing.ipynb",
   "provenance": [
    {
     "file_id": "1GSDo3s_P8ggw5qpWXzM_iFh4Vy2m5uLM",
     "timestamp": 1624112977823
    }
   ]
  },
  "kernelspec": {
   "display_name": "Python 3 (ipykernel)",
   "language": "python",
   "name": "python3"
  },
  "language_info": {
   "codemirror_mode": {
    "name": "ipython",
    "version": 3
   },
   "file_extension": ".py",
   "mimetype": "text/x-python",
   "name": "python",
   "nbconvert_exporter": "python",
   "pygments_lexer": "ipython3",
   "version": "3.10.6"
  }
 },
 "nbformat": 4,
 "nbformat_minor": 1
}

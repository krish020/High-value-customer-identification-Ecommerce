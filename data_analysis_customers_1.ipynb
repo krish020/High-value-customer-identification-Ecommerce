{
 "cells": [
  {
   "cell_type": "markdown",
   "metadata": {
    "id": "BDR-6t_fBzbY"
   },
   "source": [
    "# ~MegaMachine~\n",
    "\n",
    "**Copyright@~MEGAMACHINE~**; \n",
    "\n",
    "Licensed under the Apache License, Version 2.0 (the \"License\");\n",
    "you may not use this file except in compliance with the License. You may obtain a copy of the License at https://www.apache.org/licenses/LICENSE-2.0. Unless required by applicable law or agreed to in writing, software\n",
    "distributed under the License is distributed on an \"AS IS\" BASIS,\n",
    "WITHOUT WARRANTIES OR CONDITIONS OF ANY KIND, either express or implied.\n",
    "See the License for the specific language governing permissions and\n",
    "limitations under the License.\n",
    "\n",
    "**Disclosure: Nothing in this lecture should be considered as investment or business advices. Past performance is not necessarily indicative of future returns. Predatory Pricing Dataset and Customers Dataset during these lectures is only taken as the general example to show, how one can do data analysis using pandas (in python). I AM NOT REPOSIBLE FOR YOUR ANY KIND OF LOSS/PROFIT IN/ON YOUR BUSINESS/STOCKS RETURNS. Consider a financial adviser before investing or invest at your own risk.**"
   ]
  },
  {
   "cell_type": "code",
   "execution_count": 2,
   "metadata": {
    "colab": {
     "base_uri": "https://localhost:8080/"
    },
    "executionInfo": {
     "elapsed": 13,
     "status": "ok",
     "timestamp": 1624200836292,
     "user": {
      "displayName": "Clash Clans",
      "photoUrl": "",
      "userId": "00562530571182710236"
     },
     "user_tz": -330
    },
    "id": "gC1HMHhLyX5g",
    "outputId": "71467300-95a6-483d-b34e-2ebc4d470ce9"
   },
   "outputs": [
    {
     "name": "stdout",
     "output_type": "stream",
     "text": [
      "Python 3.10.6\n",
      "numpy version: 1.23.1\n",
      "pandas version:  1.4.3\n",
      "pyplot:  <module 'matplotlib.pyplot' from 'C:\\\\Users\\\\ankit.k\\\\AppData\\\\Local\\\\Programs\\\\Python\\\\Python310\\\\lib\\\\site-packages\\\\matplotlib\\\\pyplot.py'>\n"
     ]
    }
   ],
   "source": [
    "!python --version   # Python version\n",
    "\n",
    "# About python:  https://www.python.org/\n",
    "#                Python is powerful... and fast; plays well with others; runs everywhere; is friendly & easy to learn; \n",
    "#                is Open –> https://www.python.org/about/.\n",
    "#     Python docs: https://docs.python.org/3/ (all documentation); \n",
    "#                  https://docs.python.org/3.7/ (Recommended version – 3.7). \n",
    "# The Python Tutorial (python3.7): https://docs.python.org/3.7/tutorial/index.html \n",
    "\n",
    "# Load Module ---\n",
    "import numpy as np, pandas as pd, matplotlib.pyplot as plt\n",
    "# NumPy : The fundamental package for scientific computing with Python. NumPy is the fundamental package for scientific \n",
    "#         computing in Python. It is a Python library that provides a multidimensional array object, various derived \n",
    "#         objects (such as masked arrays and matrices), and an assortment of routines for fast operations on arrays, \n",
    "#         including mathematical, logical, shape manipulation, sorting, selecting, I/O, discrete Fourier transforms,\n",
    "#         basic linear algebra, basic statistical operations, random simulation and much more.\n",
    "#     About: https://numpy.org/\n",
    "#     Docs: https://numpy.org/doc/stable/\n",
    "#     NumPy quickstart: https://numpy.org/doc/stable/user/quickstart.html\n",
    "\n",
    "# Pandas: pandas is a fast, powerful, flexible and easy to use open source data analysis and manipulation tool, \n",
    "#         built on top of the Python programming language.\n",
    "#     About: https://pandas.pydata.org/ \n",
    "#     Docs: https://pandas.pydata.org/docs/ \n",
    "#     Getting started: https://pandas.pydata.org/docs/getting_started/index.html \n",
    "#     User Guide: https://pandas.pydata.org/docs/user_guide/index.html#user-guide \n",
    "\n",
    "print('numpy version:',np.__version__)\n",
    "print('pandas version: ',pd.__version__)\n",
    "print('pyplot: ',plt)"
   ]
  },
  {
   "cell_type": "markdown",
   "metadata": {
    "id": "wkIzlskFzBwA"
   },
   "source": [
    "# About Dataset – Predatory Pricing Dataset from Amazon\n",
    "\n",
    "Description: A UK-based online retail store has captured the sales data for different products for the period of one year (Nov 2016 to Dec 2017). The organization sells gifts primarily on the online platform. The customers who make a purchase consume directly for themselves. There are small businesses that buy in bulk and sell to other customers through the retail outlet channel.\n",
    "\n",
    "Dataset source ([kaggle](https://www.kaggle.com/)): https://www.kaggle.com/vik2012kvs/high-value-customers-identification \n",
    "Dataset download [link](https://www.kaggle.com/vik2012kvs/high-value-customers-identification/download), direct link: [Ecommerce.csv](https://drive.google.com/file/d/1IxkyEQJBvnTf6SVl_C_eU9UEMBBMrQ22/view?usp=sharing)\n",
    "\n",
    "**NOTE: Data is available under education license only. Don’t use dataset other than educational purposes.**\n"
   ]
  },
  {
   "cell_type": "code",
   "execution_count": 2,
   "metadata": {
    "colab": {
     "base_uri": "https://localhost:8080/"
    },
    "executionInfo": {
     "elapsed": 4459,
     "status": "ok",
     "timestamp": 1624200988639,
     "user": {
      "displayName": "Clash Clans",
      "photoUrl": "",
      "userId": "00562530571182710236"
     },
     "user_tz": -330
    },
    "id": "EYD3EOR6fQqn",
    "outputId": "27b5a091-7c8a-4770-a4d9-85c6d4f0f11a"
   },
   "outputs": [
    {
     "name": "stdout",
     "output_type": "stream",
     "text": [
      "Downloading...\n",
      "From: https://drive.google.com/uc?id=1IxkyEQJBvnTf6SVl_C_eU9UEMBBMrQ22\n",
      "To: /content/Ecommerce.csv\n",
      "42.7MB [00:01, 36.6MB/s]\n"
     ]
    }
   ],
   "source": [
    "# download data \n",
    "# Dataset link\n",
    "# File link - 'https://drive.google.com/file/d/1IxkyEQJBvnTf6SVl_C_eU9UEMBBMrQ22/view?usp=sharing'\n",
    "# download file\n",
    "!gdown --id 1IxkyEQJBvnTf6SVl_C_eU9UEMBBMrQ22\n",
    "# load data \n",
    "data_csv_link='/content/Ecommerce.csv'"
   ]
  },
  {
   "cell_type": "code",
   "execution_count": 3,
   "metadata": {
    "colab": {
     "base_uri": "https://localhost:8080/",
     "height": 304
    },
    "executionInfo": {
     "elapsed": 736,
     "status": "ok",
     "timestamp": 1624204744788,
     "user": {
      "displayName": "Clash Clans",
      "photoUrl": "",
      "userId": "00562530571182710236"
     },
     "user_tz": -330
    },
    "id": "vmeSFBUpZN91",
    "outputId": "2553871f-9e99-42b1-cc87-91a8f7df4011"
   },
   "outputs": [
    {
     "data": {
      "text/html": [
       "<div>\n",
       "<style scoped>\n",
       "    .dataframe tbody tr th:only-of-type {\n",
       "        vertical-align: middle;\n",
       "    }\n",
       "\n",
       "    .dataframe tbody tr th {\n",
       "        vertical-align: top;\n",
       "    }\n",
       "\n",
       "    .dataframe thead th {\n",
       "        text-align: right;\n",
       "    }\n",
       "</style>\n",
       "<table border=\"1\" class=\"dataframe\">\n",
       "  <thead>\n",
       "    <tr style=\"text-align: right;\">\n",
       "      <th></th>\n",
       "      <th>InvoiceNo</th>\n",
       "      <th>StockCode</th>\n",
       "      <th>Description</th>\n",
       "      <th>Quantity</th>\n",
       "      <th>InvoiceDate</th>\n",
       "      <th>UnitPrice</th>\n",
       "      <th>CustomerID</th>\n",
       "      <th>Country</th>\n",
       "      <th>Unnamed: 8</th>\n",
       "    </tr>\n",
       "  </thead>\n",
       "  <tbody>\n",
       "    <tr>\n",
       "      <th>0</th>\n",
       "      <td>536365</td>\n",
       "      <td>85123A</td>\n",
       "      <td>WHITE HANGING HEART T-LIGHT HOLDER</td>\n",
       "      <td>6</td>\n",
       "      <td>29-Nov-16</td>\n",
       "      <td>2.55</td>\n",
       "      <td>17850.0</td>\n",
       "      <td>United Kingdom</td>\n",
       "      <td>NaN</td>\n",
       "    </tr>\n",
       "    <tr>\n",
       "      <th>1</th>\n",
       "      <td>536365</td>\n",
       "      <td>71053</td>\n",
       "      <td>WHITE METAL LANTERN</td>\n",
       "      <td>6</td>\n",
       "      <td>29-Nov-16</td>\n",
       "      <td>3.39</td>\n",
       "      <td>17850.0</td>\n",
       "      <td>United Kingdom</td>\n",
       "      <td>NaN</td>\n",
       "    </tr>\n",
       "    <tr>\n",
       "      <th>2</th>\n",
       "      <td>536365</td>\n",
       "      <td>84406B</td>\n",
       "      <td>CREAM CUPID HEARTS COAT HANGER</td>\n",
       "      <td>8</td>\n",
       "      <td>29-Nov-16</td>\n",
       "      <td>2.75</td>\n",
       "      <td>17850.0</td>\n",
       "      <td>United Kingdom</td>\n",
       "      <td>NaN</td>\n",
       "    </tr>\n",
       "    <tr>\n",
       "      <th>3</th>\n",
       "      <td>536365</td>\n",
       "      <td>84029G</td>\n",
       "      <td>KNITTED UNION FLAG HOT WATER BOTTLE</td>\n",
       "      <td>6</td>\n",
       "      <td>29-Nov-16</td>\n",
       "      <td>3.39</td>\n",
       "      <td>17850.0</td>\n",
       "      <td>United Kingdom</td>\n",
       "      <td>NaN</td>\n",
       "    </tr>\n",
       "    <tr>\n",
       "      <th>4</th>\n",
       "      <td>536365</td>\n",
       "      <td>84029E</td>\n",
       "      <td>RED WOOLLY HOTTIE WHITE HEART.</td>\n",
       "      <td>6</td>\n",
       "      <td>29-Nov-16</td>\n",
       "      <td>3.39</td>\n",
       "      <td>17850.0</td>\n",
       "      <td>United Kingdom</td>\n",
       "      <td>NaN</td>\n",
       "    </tr>\n",
       "  </tbody>\n",
       "</table>\n",
       "</div>"
      ],
      "text/plain": [
       "  InvoiceNo StockCode                          Description  Quantity  \\\n",
       "0    536365    85123A   WHITE HANGING HEART T-LIGHT HOLDER         6   \n",
       "1    536365     71053                  WHITE METAL LANTERN         6   \n",
       "2    536365    84406B       CREAM CUPID HEARTS COAT HANGER         8   \n",
       "3    536365    84029G  KNITTED UNION FLAG HOT WATER BOTTLE         6   \n",
       "4    536365    84029E       RED WOOLLY HOTTIE WHITE HEART.         6   \n",
       "\n",
       "  InvoiceDate  UnitPrice  CustomerID         Country  Unnamed: 8  \n",
       "0   29-Nov-16       2.55     17850.0  United Kingdom         NaN  \n",
       "1   29-Nov-16       3.39     17850.0  United Kingdom         NaN  \n",
       "2   29-Nov-16       2.75     17850.0  United Kingdom         NaN  \n",
       "3   29-Nov-16       3.39     17850.0  United Kingdom         NaN  \n",
       "4   29-Nov-16       3.39     17850.0  United Kingdom         NaN  "
      ]
     },
     "execution_count": 3,
     "metadata": {},
     "output_type": "execute_result"
    }
   ],
   "source": [
    "# read data file - \n",
    "# Encoding ISO/IEC 8859-1 - https://en.wikipedia.org/wiki/ISO/IEC_8859-1\n",
    "data=pd.read_csv(r\"C:\\Users\\ankit.k\\Downloads\\Ecommerce.csv\",encoding='ISO-8859-1')\n",
    "# see data - \n",
    "data.head()"
   ]
  },
  {
   "cell_type": "code",
   "execution_count": 4,
   "metadata": {
    "colab": {
     "base_uri": "https://localhost:8080/"
    },
    "executionInfo": {
     "elapsed": 15,
     "status": "ok",
     "timestamp": 1624204744790,
     "user": {
      "displayName": "Clash Clans",
      "photoUrl": "",
      "userId": "00562530571182710236"
     },
     "user_tz": -330
    },
    "id": "JX647m5OdgGm",
    "outputId": "3cc87473-318a-4dc7-bd78-46416a1a54ba"
   },
   "outputs": [
    {
     "data": {
      "text/plain": [
       "(541909, 9)"
      ]
     },
     "execution_count": 4,
     "metadata": {},
     "output_type": "execute_result"
    }
   ],
   "source": [
    "data.shape"
   ]
  },
  {
   "cell_type": "markdown",
   "metadata": {
    "id": "YCpvp86najOK"
   },
   "source": [
    "### data stats "
   ]
  },
  {
   "cell_type": "code",
   "execution_count": 5,
   "metadata": {
    "colab": {
     "base_uri": "https://localhost:8080/"
    },
    "executionInfo": {
     "elapsed": 9,
     "status": "ok",
     "timestamp": 1624204745386,
     "user": {
      "displayName": "Clash Clans",
      "photoUrl": "",
      "userId": "00562530571182710236"
     },
     "user_tz": -330
    },
    "id": "YYmfZ_xMc8Fq",
    "outputId": "39d2fe5e-29c2-4b2d-8659-a1803ad0b2e1"
   },
   "outputs": [
    {
     "name": "stdout",
     "output_type": "stream",
     "text": [
      "<class 'pandas.core.frame.DataFrame'>\n",
      "RangeIndex: 541909 entries, 0 to 541908\n",
      "Data columns (total 9 columns):\n",
      " #   Column       Non-Null Count   Dtype  \n",
      "---  ------       --------------   -----  \n",
      " 0   InvoiceNo    541909 non-null  object \n",
      " 1   StockCode    541909 non-null  object \n",
      " 2   Description  540455 non-null  object \n",
      " 3   Quantity     541909 non-null  int64  \n",
      " 4   InvoiceDate  541909 non-null  object \n",
      " 5   UnitPrice    541909 non-null  float64\n",
      " 6   CustomerID   406829 non-null  float64\n",
      " 7   Country      541909 non-null  object \n",
      " 8   Unnamed: 8   0 non-null       float64\n",
      "dtypes: float64(3), int64(1), object(5)\n",
      "memory usage: 37.2+ MB\n"
     ]
    }
   ],
   "source": [
    "# data info \n",
    "data.info()"
   ]
  },
  {
   "cell_type": "code",
   "execution_count": 6,
   "metadata": {
    "colab": {
     "base_uri": "https://localhost:8080/"
    },
    "executionInfo": {
     "elapsed": 591,
     "status": "ok",
     "timestamp": 1624204745973,
     "user": {
      "displayName": "Clash Clans",
      "photoUrl": "",
      "userId": "00562530571182710236"
     },
     "user_tz": -330
    },
    "id": "5xu9O_dzcK63",
    "outputId": "252e0050-4b13-4b85-e955-caedfce5d610"
   },
   "outputs": [
    {
     "data": {
      "text/plain": [
       "InvoiceNo           0\n",
       "StockCode           0\n",
       "Description      1454\n",
       "Quantity            0\n",
       "InvoiceDate         0\n",
       "UnitPrice           0\n",
       "CustomerID     135080\n",
       "Country             0\n",
       "Unnamed: 8     541909\n",
       "dtype: int64"
      ]
     },
     "execution_count": 6,
     "metadata": {},
     "output_type": "execute_result"
    }
   ],
   "source": [
    "# null values\n",
    "data.isna().sum()"
   ]
  },
  {
   "cell_type": "markdown",
   "metadata": {
    "id": "I096GF4QbvBy"
   },
   "source": [
    "### preprocessing"
   ]
  },
  {
   "cell_type": "code",
   "execution_count": 7,
   "metadata": {
    "colab": {
     "base_uri": "https://localhost:8080/"
    },
    "executionInfo": {
     "elapsed": 12,
     "status": "ok",
     "timestamp": 1624204745974,
     "user": {
      "displayName": "Clash Clans",
      "photoUrl": "",
      "userId": "00562530571182710236"
     },
     "user_tz": -330
    },
    "id": "ts_-lrTMl5is",
    "outputId": "507cd9fd-7f73-4b06-8d86-ec3faad63197"
   },
   "outputs": [
    {
     "name": "stdout",
     "output_type": "stream",
     "text": [
      "<class 'pandas.core.frame.DataFrame'>\n",
      "Int64Index: 406829 entries, 0 to 541908\n",
      "Data columns (total 6 columns):\n",
      " #   Column      Non-Null Count   Dtype  \n",
      "---  ------      --------------   -----  \n",
      " 0   InvoiceNo   406829 non-null  object \n",
      " 1   StockCode   406829 non-null  object \n",
      " 2   Quantity    406829 non-null  int64  \n",
      " 3   UnitPrice   406829 non-null  float64\n",
      " 4   CustomerID  406829 non-null  float64\n",
      " 5   Country     406829 non-null  object \n",
      "dtypes: float64(2), int64(1), object(3)\n",
      "memory usage: 21.7+ MB\n"
     ]
    }
   ],
   "source": [
    "# drop column \"Unnamed: 8\"\n",
    "data.drop(columns=['Unnamed: 8','InvoiceDate','Description'],inplace=True)\n",
    "# null value columns \n",
    "data.dropna(axis=0,how='any',thresh=None,subset=None,inplace=True)\n",
    "# get info\n",
    "data.info()"
   ]
  },
  {
   "cell_type": "code",
   "execution_count": 8,
   "metadata": {
    "colab": {
     "base_uri": "https://localhost:8080/"
    },
    "executionInfo": {
     "elapsed": 7,
     "status": "ok",
     "timestamp": 1624204746598,
     "user": {
      "displayName": "Clash Clans",
      "photoUrl": "",
      "userId": "00562530571182710236"
     },
     "user_tz": -330
    },
    "id": "y3Kp72BEbG8C",
    "outputId": "2bbfe8ec-7f54-4788-f395-f0b9d6217581"
   },
   "outputs": [
    {
     "name": "stderr",
     "output_type": "stream",
     "text": [
      "C:\\Users\\ankit.k\\AppData\\Local\\Temp\\ipykernel_2144\\1070211779.py:2: DeprecationWarning: `np.str` is a deprecated alias for the builtin `str`. To silence this warning, use `str` by itself. Doing this will not modify any behavior and is safe. If you specifically wanted the numpy scalar type, use `np.str_` here.\n",
      "Deprecated in NumPy 1.20; for more details and guidance: https://numpy.org/devdocs/release/1.20.0-notes.html#deprecations\n",
      "  data.CustomerID=data.CustomerID.astype(dtype=np.int64).astype(dtype=np.str)\n"
     ]
    },
    {
     "data": {
      "text/plain": [
       "InvoiceNo      object\n",
       "StockCode      object\n",
       "Quantity        int64\n",
       "UnitPrice     float64\n",
       "CustomerID     object\n",
       "Country        object\n",
       "dtype: object"
      ]
     },
     "execution_count": 8,
     "metadata": {},
     "output_type": "execute_result"
    }
   ],
   "source": [
    "# change data type - CustomerID (to object/string)\n",
    "data.CustomerID=data.CustomerID.astype(dtype=np.int64).astype(dtype=np.str)\n",
    "data.dtypes"
   ]
  },
  {
   "cell_type": "code",
   "execution_count": 9,
   "metadata": {
    "colab": {
     "base_uri": "https://localhost:8080/",
     "height": 110
    },
    "executionInfo": {
     "elapsed": 12,
     "status": "ok",
     "timestamp": 1624204747215,
     "user": {
      "displayName": "Clash Clans",
      "photoUrl": "",
      "userId": "00562530571182710236"
     },
     "user_tz": -330
    },
    "id": "7JTTPWWBcexv",
    "outputId": "d010a1b3-d856-404e-cc35-c886fbdab05f"
   },
   "outputs": [
    {
     "data": {
      "text/html": [
       "<div>\n",
       "<style scoped>\n",
       "    .dataframe tbody tr th:only-of-type {\n",
       "        vertical-align: middle;\n",
       "    }\n",
       "\n",
       "    .dataframe tbody tr th {\n",
       "        vertical-align: top;\n",
       "    }\n",
       "\n",
       "    .dataframe thead th {\n",
       "        text-align: right;\n",
       "    }\n",
       "</style>\n",
       "<table border=\"1\" class=\"dataframe\">\n",
       "  <thead>\n",
       "    <tr style=\"text-align: right;\">\n",
       "      <th></th>\n",
       "      <th>count</th>\n",
       "      <th>mean</th>\n",
       "      <th>std</th>\n",
       "      <th>min</th>\n",
       "      <th>25%</th>\n",
       "      <th>50%</th>\n",
       "      <th>75%</th>\n",
       "      <th>max</th>\n",
       "    </tr>\n",
       "  </thead>\n",
       "  <tbody>\n",
       "    <tr>\n",
       "      <th>Quantity</th>\n",
       "      <td>406829.0</td>\n",
       "      <td>12.061303</td>\n",
       "      <td>248.693370</td>\n",
       "      <td>-80995.0</td>\n",
       "      <td>2.00</td>\n",
       "      <td>5.00</td>\n",
       "      <td>12.00</td>\n",
       "      <td>80995.0</td>\n",
       "    </tr>\n",
       "    <tr>\n",
       "      <th>UnitPrice</th>\n",
       "      <td>406829.0</td>\n",
       "      <td>3.460471</td>\n",
       "      <td>69.315162</td>\n",
       "      <td>0.0</td>\n",
       "      <td>1.25</td>\n",
       "      <td>1.95</td>\n",
       "      <td>3.75</td>\n",
       "      <td>38970.0</td>\n",
       "    </tr>\n",
       "  </tbody>\n",
       "</table>\n",
       "</div>"
      ],
      "text/plain": [
       "              count       mean         std      min   25%   50%    75%  \\\n",
       "Quantity   406829.0  12.061303  248.693370 -80995.0  2.00  5.00  12.00   \n",
       "UnitPrice  406829.0   3.460471   69.315162      0.0  1.25  1.95   3.75   \n",
       "\n",
       "               max  \n",
       "Quantity   80995.0  \n",
       "UnitPrice  38970.0  "
      ]
     },
     "execution_count": 9,
     "metadata": {},
     "output_type": "execute_result"
    }
   ],
   "source": [
    "# stats --\n",
    "data.describe().T"
   ]
  },
  {
   "cell_type": "code",
   "execution_count": 13,
   "metadata": {
    "colab": {
     "base_uri": "https://localhost:8080/",
     "height": 161
    },
    "executionInfo": {
     "elapsed": 8,
     "status": "ok",
     "timestamp": 1624204747660,
     "user": {
      "displayName": "Clash Clans",
      "photoUrl": "",
      "userId": "00562530571182710236"
     },
     "user_tz": -330
    },
    "id": "o6h86dPZdGT4",
    "outputId": "dc889a0b-9b0e-4f85-df69-964c96abda05"
   },
   "outputs": [
    {
     "name": "stdout",
     "output_type": "stream",
     "text": [
      "values with -ve or zero quantity value 0\n",
      "values with -ve unit price value 0\n",
      "values with zeo unit price value 0\n"
     ]
    },
    {
     "data": {
      "text/html": [
       "<div>\n",
       "<style scoped>\n",
       "    .dataframe tbody tr th:only-of-type {\n",
       "        vertical-align: middle;\n",
       "    }\n",
       "\n",
       "    .dataframe tbody tr th {\n",
       "        vertical-align: top;\n",
       "    }\n",
       "\n",
       "    .dataframe thead th {\n",
       "        text-align: right;\n",
       "    }\n",
       "</style>\n",
       "<table border=\"1\" class=\"dataframe\">\n",
       "  <thead>\n",
       "    <tr style=\"text-align: right;\">\n",
       "      <th></th>\n",
       "      <th>count</th>\n",
       "      <th>mean</th>\n",
       "      <th>std</th>\n",
       "      <th>min</th>\n",
       "      <th>25%</th>\n",
       "      <th>50%</th>\n",
       "      <th>75%</th>\n",
       "      <th>max</th>\n",
       "    </tr>\n",
       "  </thead>\n",
       "  <tbody>\n",
       "    <tr>\n",
       "      <th>Quantity</th>\n",
       "      <td>397884.0</td>\n",
       "      <td>12.988238</td>\n",
       "      <td>179.331775</td>\n",
       "      <td>1.000</td>\n",
       "      <td>2.00</td>\n",
       "      <td>6.00</td>\n",
       "      <td>12.00</td>\n",
       "      <td>80995.00</td>\n",
       "    </tr>\n",
       "    <tr>\n",
       "      <th>UnitPrice</th>\n",
       "      <td>397884.0</td>\n",
       "      <td>3.116488</td>\n",
       "      <td>22.097877</td>\n",
       "      <td>0.001</td>\n",
       "      <td>1.25</td>\n",
       "      <td>1.95</td>\n",
       "      <td>3.75</td>\n",
       "      <td>8142.75</td>\n",
       "    </tr>\n",
       "  </tbody>\n",
       "</table>\n",
       "</div>"
      ],
      "text/plain": [
       "              count       mean         std    min   25%   50%    75%       max\n",
       "Quantity   397884.0  12.988238  179.331775  1.000  2.00  6.00  12.00  80995.00\n",
       "UnitPrice  397884.0   3.116488   22.097877  0.001  1.25  1.95   3.75   8142.75"
      ]
     },
     "execution_count": 13,
     "metadata": {},
     "output_type": "execute_result"
    }
   ],
   "source": [
    "# making all quantity postive \n",
    "print('values with -ve or zero quantity value',sum(data.Quantity<=0))\n",
    "print('values with -ve unit price value',sum(data.UnitPrice<0))\n",
    "print('values with zeo unit price value',sum(data.UnitPrice==0))\n",
    "#data.Quantity=data.Quantity.apply(abs)\n",
    "\n",
    "# remove product with zero unit price, and quantity\n",
    "data=data[data.Quantity>0]\n",
    "data=data[data.UnitPrice>0]\n",
    "\n",
    "# get stats again --\n",
    "data.describe().T"
   ]
  },
  {
   "cell_type": "markdown",
   "metadata": {
    "id": "Hpl75pxfjxWQ"
   },
   "source": [
    "### group data"
   ]
  },
  {
   "cell_type": "code",
   "execution_count": 14,
   "metadata": {
    "colab": {
     "base_uri": "https://localhost:8080/",
     "height": 203
    },
    "executionInfo": {
     "elapsed": 406,
     "status": "ok",
     "timestamp": 1624204756534,
     "user": {
      "displayName": "Clash Clans",
      "photoUrl": "",
      "userId": "00562530571182710236"
     },
     "user_tz": -330
    },
    "id": "Ndw2YsrnfLvg",
    "outputId": "80b6751f-689d-475c-e014-d411d8304b0a"
   },
   "outputs": [
    {
     "data": {
      "text/html": [
       "<div>\n",
       "<style scoped>\n",
       "    .dataframe tbody tr th:only-of-type {\n",
       "        vertical-align: middle;\n",
       "    }\n",
       "\n",
       "    .dataframe tbody tr th {\n",
       "        vertical-align: top;\n",
       "    }\n",
       "\n",
       "    .dataframe thead th {\n",
       "        text-align: right;\n",
       "    }\n",
       "</style>\n",
       "<table border=\"1\" class=\"dataframe\">\n",
       "  <thead>\n",
       "    <tr style=\"text-align: right;\">\n",
       "      <th></th>\n",
       "      <th>InvoiceNo</th>\n",
       "      <th>StockCode</th>\n",
       "      <th>Quantity</th>\n",
       "      <th>UnitPrice</th>\n",
       "      <th>CustomerID</th>\n",
       "      <th>Country</th>\n",
       "      <th>TotalPaid</th>\n",
       "    </tr>\n",
       "  </thead>\n",
       "  <tbody>\n",
       "    <tr>\n",
       "      <th>0</th>\n",
       "      <td>536365</td>\n",
       "      <td>85123A</td>\n",
       "      <td>6</td>\n",
       "      <td>2.55</td>\n",
       "      <td>17850</td>\n",
       "      <td>United Kingdom</td>\n",
       "      <td>15.30</td>\n",
       "    </tr>\n",
       "    <tr>\n",
       "      <th>1</th>\n",
       "      <td>536365</td>\n",
       "      <td>71053</td>\n",
       "      <td>6</td>\n",
       "      <td>3.39</td>\n",
       "      <td>17850</td>\n",
       "      <td>United Kingdom</td>\n",
       "      <td>20.34</td>\n",
       "    </tr>\n",
       "    <tr>\n",
       "      <th>2</th>\n",
       "      <td>536365</td>\n",
       "      <td>84406B</td>\n",
       "      <td>8</td>\n",
       "      <td>2.75</td>\n",
       "      <td>17850</td>\n",
       "      <td>United Kingdom</td>\n",
       "      <td>22.00</td>\n",
       "    </tr>\n",
       "    <tr>\n",
       "      <th>3</th>\n",
       "      <td>536365</td>\n",
       "      <td>84029G</td>\n",
       "      <td>6</td>\n",
       "      <td>3.39</td>\n",
       "      <td>17850</td>\n",
       "      <td>United Kingdom</td>\n",
       "      <td>20.34</td>\n",
       "    </tr>\n",
       "    <tr>\n",
       "      <th>4</th>\n",
       "      <td>536365</td>\n",
       "      <td>84029E</td>\n",
       "      <td>6</td>\n",
       "      <td>3.39</td>\n",
       "      <td>17850</td>\n",
       "      <td>United Kingdom</td>\n",
       "      <td>20.34</td>\n",
       "    </tr>\n",
       "  </tbody>\n",
       "</table>\n",
       "</div>"
      ],
      "text/plain": [
       "  InvoiceNo StockCode  Quantity  UnitPrice CustomerID         Country  \\\n",
       "0    536365    85123A         6       2.55      17850  United Kingdom   \n",
       "1    536365     71053         6       3.39      17850  United Kingdom   \n",
       "2    536365    84406B         8       2.75      17850  United Kingdom   \n",
       "3    536365    84029G         6       3.39      17850  United Kingdom   \n",
       "4    536365    84029E         6       3.39      17850  United Kingdom   \n",
       "\n",
       "   TotalPaid  \n",
       "0      15.30  \n",
       "1      20.34  \n",
       "2      22.00  \n",
       "3      20.34  \n",
       "4      20.34  "
      ]
     },
     "execution_count": 14,
     "metadata": {},
     "output_type": "execute_result"
    }
   ],
   "source": [
    "# Get total paid by customer\n",
    "data['TotalPaid']=data.Quantity*data.UnitPrice\n",
    "data.head()"
   ]
  },
  {
   "cell_type": "code",
   "execution_count": 21,
   "metadata": {},
   "outputs": [
    {
     "data": {
      "text/plain": [
       "Country\n",
       "Sweden              38378.330\n",
       "Belgium             41196.340\n",
       "Switzerland         56443.950\n",
       "Spain               61577.110\n",
       "Australia          138521.310\n",
       "France             209024.050\n",
       "Germany            228867.140\n",
       "EIRE               265545.900\n",
       "Netherlands        285446.340\n",
       "United Kingdom    7308391.554\n",
       "Name: TotalPaid, dtype: float64"
      ]
     },
     "execution_count": 21,
     "metadata": {},
     "output_type": "execute_result"
    }
   ],
   "source": [
    "data.groupby('Country')['TotalPaid'].sum().sort_values().tail(10)#.hist()"
   ]
  },
  {
   "cell_type": "code",
   "execution_count": 27,
   "metadata": {
    "colab": {
     "base_uri": "https://localhost:8080/",
     "height": 265
    },
    "executionInfo": {
     "elapsed": 424,
     "status": "ok",
     "timestamp": 1624204758876,
     "user": {
      "displayName": "Clash Clans",
      "photoUrl": "",
      "userId": "00562530571182710236"
     },
     "user_tz": -330
    },
    "id": "oJqJa1NPfm49",
    "outputId": "d82b4c3e-1b5c-4662-9f62-4d901701d1e2"
   },
   "outputs": [
    {
     "data": {
      "text/html": [
       "<div>\n",
       "<style scoped>\n",
       "    .dataframe tbody tr th:only-of-type {\n",
       "        vertical-align: middle;\n",
       "    }\n",
       "\n",
       "    .dataframe tbody tr th {\n",
       "        vertical-align: top;\n",
       "    }\n",
       "\n",
       "    .dataframe thead tr th {\n",
       "        text-align: left;\n",
       "    }\n",
       "\n",
       "    .dataframe thead tr:last-of-type th {\n",
       "        text-align: right;\n",
       "    }\n",
       "</style>\n",
       "<table border=\"1\" class=\"dataframe\">\n",
       "  <thead>\n",
       "    <tr>\n",
       "      <th></th>\n",
       "      <th colspan=\"5\" halign=\"left\">TotalPaid</th>\n",
       "    </tr>\n",
       "    <tr>\n",
       "      <th></th>\n",
       "      <th>mean</th>\n",
       "      <th>sum</th>\n",
       "      <th>max</th>\n",
       "      <th>min</th>\n",
       "      <th>count</th>\n",
       "    </tr>\n",
       "    <tr>\n",
       "      <th>CustomerID</th>\n",
       "      <th></th>\n",
       "      <th></th>\n",
       "      <th></th>\n",
       "      <th></th>\n",
       "      <th></th>\n",
       "    </tr>\n",
       "  </thead>\n",
       "  <tbody>\n",
       "    <tr>\n",
       "      <th>12346</th>\n",
       "      <td>77183.600000</td>\n",
       "      <td>77183.60</td>\n",
       "      <td>77183.6</td>\n",
       "      <td>77183.60</td>\n",
       "      <td>1</td>\n",
       "    </tr>\n",
       "    <tr>\n",
       "      <th>12347</th>\n",
       "      <td>23.681319</td>\n",
       "      <td>4310.00</td>\n",
       "      <td>249.6</td>\n",
       "      <td>5.04</td>\n",
       "      <td>182</td>\n",
       "    </tr>\n",
       "    <tr>\n",
       "      <th>12348</th>\n",
       "      <td>57.975484</td>\n",
       "      <td>1797.24</td>\n",
       "      <td>240.0</td>\n",
       "      <td>13.20</td>\n",
       "      <td>31</td>\n",
       "    </tr>\n",
       "    <tr>\n",
       "      <th>12349</th>\n",
       "      <td>24.076027</td>\n",
       "      <td>1757.55</td>\n",
       "      <td>300.0</td>\n",
       "      <td>6.64</td>\n",
       "      <td>73</td>\n",
       "    </tr>\n",
       "    <tr>\n",
       "      <th>12350</th>\n",
       "      <td>19.670588</td>\n",
       "      <td>334.40</td>\n",
       "      <td>40.0</td>\n",
       "      <td>8.50</td>\n",
       "      <td>17</td>\n",
       "    </tr>\n",
       "  </tbody>\n",
       "</table>\n",
       "</div>"
      ],
      "text/plain": [
       "               TotalPaid                                   \n",
       "                    mean       sum      max       min count\n",
       "CustomerID                                                 \n",
       "12346       77183.600000  77183.60  77183.6  77183.60     1\n",
       "12347          23.681319   4310.00    249.6      5.04   182\n",
       "12348          57.975484   1797.24    240.0     13.20    31\n",
       "12349          24.076027   1757.55    300.0      6.64    73\n",
       "12350          19.670588    334.40     40.0      8.50    17"
      ]
     },
     "execution_count": 27,
     "metadata": {},
     "output_type": "execute_result"
    }
   ],
   "source": [
    "# Make \n",
    "grp_data_raw=data.groupby('CustomerID').agg({'TotalPaid':['mean','sum','max','min','count']})\n",
    "grp_data=pd.DataFrame(grp_data_raw)\n",
    "# Multi-indexing - https://pandas.pydata.org/pandas-docs/stable/user_guide/advanced.html\n",
    "grp_data.head()"
   ]
  },
  {
   "cell_type": "code",
   "execution_count": 28,
   "metadata": {
    "colab": {
     "base_uri": "https://localhost:8080/",
     "height": 203
    },
    "executionInfo": {
     "elapsed": 456,
     "status": "ok",
     "timestamp": 1624204790917,
     "user": {
      "displayName": "Clash Clans",
      "photoUrl": "",
      "userId": "00562530571182710236"
     },
     "user_tz": -330
    },
    "id": "FwU8KNG5kJfa",
    "outputId": "d5a1829d-e4ba-4e6d-e28d-3b917aa868a2"
   },
   "outputs": [
    {
     "data": {
      "text/html": [
       "<div>\n",
       "<style scoped>\n",
       "    .dataframe tbody tr th:only-of-type {\n",
       "        vertical-align: middle;\n",
       "    }\n",
       "\n",
       "    .dataframe tbody tr th {\n",
       "        vertical-align: top;\n",
       "    }\n",
       "\n",
       "    .dataframe thead th {\n",
       "        text-align: right;\n",
       "    }\n",
       "</style>\n",
       "<table border=\"1\" class=\"dataframe\">\n",
       "  <thead>\n",
       "    <tr style=\"text-align: right;\">\n",
       "      <th></th>\n",
       "      <th>count</th>\n",
       "      <th>mean</th>\n",
       "      <th>std</th>\n",
       "      <th>min</th>\n",
       "      <th>25%</th>\n",
       "      <th>50%</th>\n",
       "      <th>75%</th>\n",
       "      <th>max</th>\n",
       "    </tr>\n",
       "  </thead>\n",
       "  <tbody>\n",
       "    <tr>\n",
       "      <th>mean</th>\n",
       "      <td>4338.0</td>\n",
       "      <td>68.350506</td>\n",
       "      <td>1467.918896</td>\n",
       "      <td>2.101286</td>\n",
       "      <td>12.365367</td>\n",
       "      <td>17.723119</td>\n",
       "      <td>24.858417</td>\n",
       "      <td>77183.60</td>\n",
       "    </tr>\n",
       "    <tr>\n",
       "      <th>sum</th>\n",
       "      <td>4338.0</td>\n",
       "      <td>2054.266460</td>\n",
       "      <td>8989.230441</td>\n",
       "      <td>3.750000</td>\n",
       "      <td>307.415000</td>\n",
       "      <td>674.485000</td>\n",
       "      <td>1661.740000</td>\n",
       "      <td>280206.02</td>\n",
       "    </tr>\n",
       "    <tr>\n",
       "      <th>max</th>\n",
       "      <td>4338.0</td>\n",
       "      <td>188.582012</td>\n",
       "      <td>2891.479719</td>\n",
       "      <td>3.750000</td>\n",
       "      <td>31.825000</td>\n",
       "      <td>53.100000</td>\n",
       "      <td>103.680000</td>\n",
       "      <td>168469.60</td>\n",
       "    </tr>\n",
       "    <tr>\n",
       "      <th>min</th>\n",
       "      <td>4338.0</td>\n",
       "      <td>31.868834</td>\n",
       "      <td>1175.954123</td>\n",
       "      <td>0.001000</td>\n",
       "      <td>0.950000</td>\n",
       "      <td>5.040000</td>\n",
       "      <td>9.950000</td>\n",
       "      <td>77183.60</td>\n",
       "    </tr>\n",
       "    <tr>\n",
       "      <th>count</th>\n",
       "      <td>4338.0</td>\n",
       "      <td>91.720609</td>\n",
       "      <td>228.785094</td>\n",
       "      <td>1.000000</td>\n",
       "      <td>17.000000</td>\n",
       "      <td>41.000000</td>\n",
       "      <td>100.000000</td>\n",
       "      <td>7847.00</td>\n",
       "    </tr>\n",
       "  </tbody>\n",
       "</table>\n",
       "</div>"
      ],
      "text/plain": [
       "        count         mean          std       min         25%         50%  \\\n",
       "mean   4338.0    68.350506  1467.918896  2.101286   12.365367   17.723119   \n",
       "sum    4338.0  2054.266460  8989.230441  3.750000  307.415000  674.485000   \n",
       "max    4338.0   188.582012  2891.479719  3.750000   31.825000   53.100000   \n",
       "min    4338.0    31.868834  1175.954123  0.001000    0.950000    5.040000   \n",
       "count  4338.0    91.720609   228.785094  1.000000   17.000000   41.000000   \n",
       "\n",
       "               75%        max  \n",
       "mean     24.858417   77183.60  \n",
       "sum    1661.740000  280206.02  \n",
       "max     103.680000  168469.60  \n",
       "min       9.950000   77183.60  \n",
       "count   100.000000    7847.00  "
      ]
     },
     "execution_count": 28,
     "metadata": {},
     "output_type": "execute_result"
    }
   ],
   "source": [
    "# rename columns \n",
    "grp_data.columns=['mean','sum','max','min','count']\n",
    "# stats \n",
    "grp_data.describe().T"
   ]
  },
  {
   "cell_type": "markdown",
   "metadata": {
    "id": "g6tBa9Hno7Jr"
   },
   "source": [
    "### prediction "
   ]
  },
  {
   "cell_type": "markdown",
   "metadata": {
    "id": "7CG-DnNHrOIq"
   },
   "source": [
    "#### preprocess data"
   ]
  },
  {
   "cell_type": "code",
   "execution_count": 29,
   "metadata": {
    "colab": {
     "base_uri": "https://localhost:8080/"
    },
    "executionInfo": {
     "elapsed": 419,
     "status": "ok",
     "timestamp": 1624204798069,
     "user": {
      "displayName": "Clash Clans",
      "photoUrl": "",
      "userId": "00562530571182710236"
     },
     "user_tz": -330
    },
    "id": "dtF1BJwEuDiK",
    "outputId": "7933ac28-f4f1-436f-964f-f6a4c58b882c"
   },
   "outputs": [
    {
     "data": {
      "text/plain": [
       "Index(['mean', 'sum', 'max', 'min', 'count'], dtype='object')"
      ]
     },
     "execution_count": 29,
     "metadata": {},
     "output_type": "execute_result"
    }
   ],
   "source": [
    "grp_data.columns"
   ]
  },
  {
   "cell_type": "code",
   "execution_count": 30,
   "metadata": {
    "colab": {
     "base_uri": "https://localhost:8080/"
    },
    "executionInfo": {
     "elapsed": 6,
     "status": "ok",
     "timestamp": 1624204799695,
     "user": {
      "displayName": "Clash Clans",
      "photoUrl": "",
      "userId": "00562530571182710236"
     },
     "user_tz": -330
    },
    "id": "oIQ5P9aUrTeu",
    "outputId": "1df89855-73f2-4b1f-97fe-b6d905a2eba9"
   },
   "outputs": [
    {
     "data": {
      "text/plain": [
       "((4338, 3),\n",
       " (4338, 3),\n",
       " array([[7.71836000e+04, 7.71836000e+04, 7.71836000e+04],\n",
       "        [2.36813187e+01, 4.31000000e+03, 2.49600000e+02],\n",
       "        [5.79754839e+01, 1.79724000e+03, 2.40000000e+02]]),\n",
       " array([[1.00000000e+00, 2.75443343e-01, 4.58133503e-01],\n",
       "        [2.79601113e-04, 1.53683623e-02, 1.45934621e-03],\n",
       "        [7.23932537e-04, 6.40069761e-03, 1.40236137e-03]]))"
      ]
     },
     "execution_count": 30,
     "metadata": {},
     "output_type": "execute_result"
    }
   ],
   "source": [
    "# Load min-max scaler  \n",
    "from sklearn.preprocessing import MinMaxScaler \n",
    "# Source: https://scikit-learn.org/stable/modules/generated/sklearn.preprocessing.MinMaxScaler.html\n",
    "\n",
    "# Make scale \n",
    "scale=MinMaxScaler()\n",
    "\n",
    "# X - data\n",
    "X=grp_data.iloc[:,:3].values\n",
    "# scale X\n",
    "X_scaled=scale.fit_transform(X)\n",
    "\n",
    "# y - labels XXX\n",
    "X.shape,X_scaled.shape,X[:3],X_scaled[:3]"
   ]
  },
  {
   "cell_type": "code",
   "execution_count": 40,
   "metadata": {},
   "outputs": [
    {
     "data": {
      "text/plain": [
       "array([[1.00000000e+00, 2.75443343e-01, 4.58133503e-01],\n",
       "       [2.79601113e-04, 1.53683623e-02, 1.45934621e-03],\n",
       "       [7.23932537e-04, 6.40069761e-03, 1.40236137e-03],\n",
       "       ...,\n",
       "       [1.65016416e-04, 6.22050635e-04, 1.29106285e-04],\n",
       "       [8.67720358e-06, 7.46293026e-03, 1.01207455e-04],\n",
       "       [3.12841443e-04, 6.54359438e-03, 4.94165435e-04]])"
      ]
     },
     "execution_count": 40,
     "metadata": {},
     "output_type": "execute_result"
    }
   ],
   "source": [
    "X_scaled"
   ]
  },
  {
   "cell_type": "code",
   "execution_count": 31,
   "metadata": {
    "colab": {
     "base_uri": "https://localhost:8080/"
    },
    "executionInfo": {
     "elapsed": 1149,
     "status": "ok",
     "timestamp": 1624204803196,
     "user": {
      "displayName": "Clash Clans",
      "photoUrl": "",
      "userId": "00562530571182710236"
     },
     "user_tz": -330
    },
    "id": "cQKgPnzclvXQ",
    "outputId": "5d978568-38b1-447d-e871-2e3f215b8f73"
   },
   "outputs": [
    {
     "data": {
      "text/plain": [
       "([3.7125755020325233, 1.7717202285292966, 1.0006300886239388],\n",
       " [0.000855826533433039, 0.00040841867877577145, 0.00023066622605438883],\n",
       " [array([4330,    8], dtype=int64),\n",
       "  array([4329,    7,    2], dtype=int64),\n",
       "  array([  26, 4307,    3,    2], dtype=int64)])"
      ]
     },
     "execution_count": 31,
     "metadata": {},
     "output_type": "execute_result"
    }
   ],
   "source": [
    "# load KMeans \n",
    "from sklearn.cluster import KMeans\n",
    "# Source: https://scikit-learn.org/stable/modules/generated/sklearn.cluster.KMeans.html\n",
    "\n",
    "\n",
    "sample_kmeans=list()\n",
    "\n",
    "# Number of clusters \n",
    "for n in range(2,5):\n",
    "  foo_KMean_algo=KMeans(n_clusters=n,n_init=50,max_iter=10000)\n",
    "  # make cluster\n",
    "  foo_KMean_algo.fit(X_scaled)\n",
    "  sample_kmeans.append([foo_KMean_algo.labels_,foo_KMean_algo.inertia_,foo_KMean_algo.cluster_centers_])\n",
    "\n",
    "# inertia_ - Sum of squared distances of samples to their closest cluster center.\n",
    "[value[1] for value in sample_kmeans],[value[1]/len(value[0]) for value in sample_kmeans],[np.bincount(value[0]) for value in sample_kmeans]"
   ]
  },
  {
   "cell_type": "markdown",
   "metadata": {
    "id": "38xqV75-yFUT"
   },
   "source": [
    "### Plot clusters "
   ]
  },
  {
   "cell_type": "code",
   "execution_count": 32,
   "metadata": {
    "colab": {
     "base_uri": "https://localhost:8080/",
     "height": 507
    },
    "executionInfo": {
     "elapsed": 1154,
     "status": "ok",
     "timestamp": 1624203732855,
     "user": {
      "displayName": "Clash Clans",
      "photoUrl": "",
      "userId": "00562530571182710236"
     },
     "user_tz": -330
    },
    "id": "xl9AfeYwxqvk",
    "outputId": "98d6f048-4532-4fea-d980-856f9575fb04"
   },
   "outputs": [
    {
     "data": {
      "image/png": "[encoded data removed]",
      "text/plain": [
       "<Figure size 1440x720 with 3 Axes>"
      ]
     },
     "metadata": {
      "needs_background": "light"
     },
     "output_type": "display_data"
    }
   ],
   "source": [
    "plt.figure(figsize=(20,10))\n",
    "for plt_number,k in enumerate(sample_kmeans,1):\n",
    "  plt.subplot(1,3,plt_number)\n",
    "  plt.scatter(X_scaled[:,0],X_scaled[:,1],c=k[0],edgecolor='k',cmap='hsv')\n",
    "  plt.grid(),plt.xlabel('maen'),plt.ylabel('sum')\n",
    "plt.show()"
   ]
  },
  {
   "cell_type": "code",
   "execution_count": 33,
   "metadata": {
    "colab": {
     "base_uri": "https://localhost:8080/",
     "height": 507
    },
    "executionInfo": {
     "elapsed": 1540,
     "status": "ok",
     "timestamp": 1624203878867,
     "user": {
      "displayName": "Clash Clans",
      "photoUrl": "",
      "userId": "00562530571182710236"
     },
     "user_tz": -330
    },
    "id": "UVfaFAwzzo7T",
    "outputId": "58ec84d0-05ba-4f15-ea5c-07651c4711de"
   },
   "outputs": [
    {
     "data": {
      "image/png": "[encoded data removed]",
      "text/plain": [
       "<Figure size 1440x720 with 3 Axes>"
      ]
     },
     "metadata": {
      "needs_background": "light"
     },
     "output_type": "display_data"
    }
   ],
   "source": [
    "plt.figure(figsize=(20,10))\n",
    "for plt_number,k in enumerate(sample_kmeans,1):\n",
    "  plt.subplot(1,3,plt_number)\n",
    "  plt.scatter(X_scaled[:,1],X_scaled[:,2],c=k[0],edgecolor='k',cmap='hsv')\n",
    "  plt.grid(),plt.xlabel('sum'),plt.ylabel('max')\n",
    "plt.show()"
   ]
  },
  {
   "cell_type": "code",
   "execution_count": 34,
   "metadata": {
    "colab": {
     "base_uri": "https://localhost:8080/",
     "height": 507
    },
    "executionInfo": {
     "elapsed": 1612,
     "status": "ok",
     "timestamp": 1624203899993,
     "user": {
      "displayName": "Clash Clans",
      "photoUrl": "",
      "userId": "00562530571182710236"
     },
     "user_tz": -330
    },
    "id": "tfuR4eP5ztET",
    "outputId": "c175b9c8-60bd-47f5-a2cb-eb480b5cbae2"
   },
   "outputs": [
    {
     "data": {
      "image/png": "[encoded data removed]",
      "text/plain": [
       "<Figure size 1440x720 with 3 Axes>"
      ]
     },
     "metadata": {
      "needs_background": "light"
     },
     "output_type": "display_data"
    }
   ],
   "source": [
    "plt.figure(figsize=(20,10))\n",
    "for plt_number,k in enumerate(sample_kmeans,1):\n",
    "  plt.subplot(1,3,plt_number)\n",
    "  plt.scatter(X_scaled[:,2],X_scaled[:,0],c=k[0],edgecolor='k',cmap='hsv')\n",
    "  plt.grid(),plt.xlabel('max'),plt.ylabel('mean')\n",
    "plt.show()"
   ]
  },
  {
   "cell_type": "code",
   "execution_count": 35,
   "metadata": {
    "colab": {
     "base_uri": "https://localhost:8080/"
    },
    "executionInfo": {
     "elapsed": 423,
     "status": "ok",
     "timestamp": 1624204819534,
     "user": {
      "displayName": "Clash Clans",
      "photoUrl": "",
      "userId": "00562530571182710236"
     },
     "user_tz": -330
    },
    "id": "8vczFOHcJahD",
    "outputId": "44406cd2-1d21-4407-e84f-ef51891109d2"
   },
   "outputs": [
    {
     "name": "stdout",
     "output_type": "stream",
     "text": [
      "-x--x--x--x--x--x--x--x--x--x--x--x--x--x--x--x--x--x--x--x--x--x--x--x--x--x--x--x--x--x--x--x--x--x--x--x--x--x--x--x--x--x--x--x--x--x--x--x--x--x-\n",
      "for 0 in [0 1]\n",
      "        count         mean          std       min       max\n",
      "mean   4330.0    37.312824   239.261658  2.101286  13305.50\n",
      "sum    4330.0  1742.544682  4493.788201  3.750000  91062.38\n",
      "max    4330.0   127.177848   663.030765  3.750000  38970.00\n",
      "min    4330.0    14.098971   100.513611  0.001000   3861.00\n",
      "count  4330.0    89.433487   209.271534  1.000000   7847.00\n",
      "-x--x--x--x--x--x--x--x--x--x--x--x--x--x--x--x--x--x--x--x--x--x--x--x--x--x--x--x--x--x--x--x--x--x--x--x--x--x--x--x--x--x--x--x--x--x--x--x--x--x-\n",
      "for 1 in [0 1]\n",
      "       count           mean           std           min        max\n",
      "mean     8.0   16867.495714  31249.288784     25.343623   77183.60\n",
      "sum      8.0  170773.678750  70595.121988  77183.600000  280206.02\n",
      "max      8.0   33423.586250  60361.103340   1687.170000  168469.60\n",
      "min      8.0    9649.807500  27287.773017      0.390000   77183.60\n",
      "count    8.0    1329.625000   1895.156076      1.000000    5675.00\n",
      "-x--x--x--x--x--x--x--x--x--x--x--x--x--x--x--x--x--x--x--x--x--x--x--x--x--x--x--x--x--x--x--x--x--x--x--x--x--x--x--x--x--x--x--x--x--x--x--x--x--x-\n",
      "for 0 in [0 1 2]\n",
      "        count         mean          std       min       max\n",
      "mean   4329.0    37.299600   239.287715  2.101286  13305.50\n",
      "sum    4329.0  1721.911780  4284.275811  3.750000  81024.84\n",
      "max    4329.0   127.035131   663.040839  3.750000  38970.00\n",
      "min    4329.0    14.101957   100.525030  0.001000   3861.00\n",
      "count  4329.0    89.231693   208.873962  1.000000   7847.00\n",
      "-x--x--x--x--x--x--x--x--x--x--x--x--x--x--x--x--x--x--x--x--x--x--x--x--x--x--x--x--x--x--x--x--x--x--x--x--x--x--x--x--x--x--x--x--x--x--x--x--x--x-\n",
      "for 1 in [0 1 2]\n",
      "       count           mean           std           min            max\n",
      "mean     7.0     241.918123    242.210676     25.343623     602.453132\n",
      "sum      7.0  173085.101429  73527.537813  91062.380000  280206.020000\n",
      "max      7.0    3211.498571   2249.935094    745.000000    7144.720000\n",
      "min      7.0       2.111429      2.293785      0.390000       6.840000\n",
      "count    7.0    1656.571429   1870.930861    337.000000    5675.000000\n",
      "-x--x--x--x--x--x--x--x--x--x--x--x--x--x--x--x--x--x--x--x--x--x--x--x--x--x--x--x--x--x--x--x--x--x--x--x--x--x--x--x--x--x--x--x--x--x--x--x--x--x-\n",
      "for 2 in [0 1 2]\n",
      "       count        mean           std       min       max\n",
      "mean     2.0   66670.550  14867.697892  56157.50   77183.6\n",
      "sum      2.0  122828.050  64551.000237  77183.60  168472.5\n",
      "max      2.0  122826.600  64548.949627  77183.60  168469.6\n",
      "min      2.0   38592.425  54576.163073      1.25   77183.6\n",
      "count    2.0       2.000      1.414214      1.00       3.0\n",
      "-x--x--x--x--x--x--x--x--x--x--x--x--x--x--x--x--x--x--x--x--x--x--x--x--x--x--x--x--x--x--x--x--x--x--x--x--x--x--x--x--x--x--x--x--x--x--x--x--x--x-\n",
      "for 0 in [0 1 2 3]\n",
      "       count          mean           std           min        max\n",
      "mean    26.0    843.246111   2683.057956      5.223852   13305.50\n",
      "sum     26.0  59751.733846  29815.766986  31833.680000  143825.06\n",
      "max     26.0   3369.285769   7512.464399    349.500000   38970.00\n",
      "min     26.0    123.738846    534.694760      0.060000    2730.00\n",
      "count   26.0   1382.615385   2075.981177      3.000000    7847.00\n",
      "-x--x--x--x--x--x--x--x--x--x--x--x--x--x--x--x--x--x--x--x--x--x--x--x--x--x--x--x--x--x--x--x--x--x--x--x--x--x--x--x--x--x--x--x--x--x--x--x--x--x-\n",
      "for 1 in [0 1 2 3]\n",
      "        count         mean          std       min       max\n",
      "mean   4307.0    32.487640   108.703652  2.101286   3861.00\n",
      "sum    4307.0  1480.796985  2463.849989  3.750000  28882.44\n",
      "max    4307.0   108.857539   229.793546  3.750000   4161.06\n",
      "min    4307.0    13.428013    91.783173  0.001000   3861.00\n",
      "count  4307.0    83.373114   128.870182  1.000000   2700.00\n",
      "-x--x--x--x--x--x--x--x--x--x--x--x--x--x--x--x--x--x--x--x--x--x--x--x--x--x--x--x--x--x--x--x--x--x--x--x--x--x--x--x--x--x--x--x--x--x--x--x--x--x-\n",
      "for 2 in [0 1 2 3]\n",
      "       count           mean           std            min            max\n",
      "mean     3.0     438.243059    262.939607     134.973998     602.453132\n",
      "sum      3.0  244804.703333  44717.494646  194550.790000  280206.020000\n",
      "max      3.0    5321.573333   1682.742353    3828.000000    7144.720000\n",
      "min      3.0       3.496667      3.231506       0.390000       6.840000\n",
      "count    3.0     948.000000    978.006646     337.000000    2076.000000\n",
      "-x--x--x--x--x--x--x--x--x--x--x--x--x--x--x--x--x--x--x--x--x--x--x--x--x--x--x--x--x--x--x--x--x--x--x--x--x--x--x--x--x--x--x--x--x--x--x--x--x--x-\n",
      "for 3 in [0 1 2 3]\n",
      "       count        mean           std       min       max\n",
      "mean     2.0   66670.550  14867.697892  56157.50   77183.6\n",
      "sum      2.0  122828.050  64551.000237  77183.60  168472.5\n",
      "max      2.0  122826.600  64548.949627  77183.60  168469.6\n",
      "min      2.0   38592.425  54576.163073      1.25   77183.6\n",
      "count    2.0       2.000      1.414214      1.00       3.0\n",
      "-x--x--x--x--x--x--x--x--x--x--x--x--x--x--x--x--x--x--x--x--x--x--x--x--x--x--x--x--x--x--x--x--x--x--x--x--x--x--x--x--x--x--x--x--x--x--x--x--x--x-\n"
     ]
    }
   ],
   "source": [
    "# the best ?\n",
    "\n",
    "print('-x-'*50)\n",
    "for k in sample_kmeans:\n",
    "  for clr_ in np.unique(k[0]):\n",
    "    print('for',clr_,'in',np.unique(k[0]))\n",
    "    print(grp_data.iloc[np.where(k[0]==clr_)].describe().T[['count','mean','std','min','max']])\n",
    "    print('-x-'*50)"
   ]
  },
  {
   "cell_type": "markdown",
   "metadata": {
    "id": "MQHBp8yK3BBw"
   },
   "source": [
    "### Best cluster - Silhouette (clustering)?\n",
    "\n",
    "Silhouette refers to a method of interpretation and validation of consistency within [clusters of data](https://en.wikipedia.org/wiki/Cluster_analysis). The technique provides a succinct graphical representation of how well each object has been classified.\n",
    "\n",
    "The silhouette value is a measure of how similar an object is to its own cluster (cohesion) compared to other clusters (separation). The silhouette ranges from −1 to +1, where a high value indicates that the object is well matched to its own cluster and poorly matched to neighboring clusters. If most objects have a high value, then the clustering configuration is appropriate. If many points have a low or negative value, then the clustering configuration may have too many or too few clusters.\n",
    "\n",
    "The silhouette can be calculated with any distance metric, such as the [Euclidean distance](https://en.wikipedia.org/wiki/Euclidean_distance) or the [Manhattan distance](https://en.wikipedia.org/wiki/Manhattan_distance).\n",
    "\n",
    "Source: https://en.wikipedia.org/wiki/Silhouette_(clustering)\n",
    "\n",
    "**Silhouette analysis** can be used to study the separation distance between the resulting clusters. The silhouette plot displays a measure of how close each point in one cluster is to points in the neighboring clusters and thus provides a way to assess parameters like number of clusters visually. This measure has a range of [-1, 1].\n",
    "\n",
    "Silhouette coefficients (as these values are referred to as) near +1 indicate that the sample is far away from the neighboring clusters. A value of 0 indicates that the sample is on or very close to the decision boundary between two neighboring clusters and negative values indicate that those samples might have been assigned to the wrong cluster.\n",
    "\n",
    "From the thickness of the silhouette plot the cluster size can be visualized.\n",
    "\n",
    "Source: https://scikit-learn.org/stable/auto_examples/cluster/plot_kmeans_silhouette_analysis.html\n"
   ]
  },
  {
   "cell_type": "code",
   "execution_count": 36,
   "metadata": {
    "colab": {
     "base_uri": "https://localhost:8080/",
     "height": 1000
    },
    "executionInfo": {
     "elapsed": 7628,
     "status": "ok",
     "timestamp": 1624205830438,
     "user": {
      "displayName": "Clash Clans",
      "photoUrl": "",
      "userId": "00562530571182710236"
     },
     "user_tz": -330
    },
    "id": "iJKm-SB32Zn8",
    "outputId": "bb8db3db-b76f-4b3d-88d7-65a217f90815"
   },
   "outputs": [
    {
     "name": "stdout",
     "output_type": "stream",
     "text": [
      "For n_clusters = 2 The average silhouette_score is : 0.9871946547960491\n",
      "For n_clusters = 3 The average silhouette_score is : 0.9840754022122987\n",
      "For n_clusters = 4 The average silhouette_score is : 0.962479779599013\n",
      "For n_clusters = 5 The average silhouette_score is : 0.9622919713601918\n",
      "For n_clusters = 6 The average silhouette_score is : 0.9478275346611295\n"
     ]
    },
    {
     "data": {
      "image/png": "[encoded data removed]",
      "text/plain": [
       "<Figure size 1296x504 with 2 Axes>"
      ]
     },
     "metadata": {
      "needs_background": "light"
     },
     "output_type": "display_data"
    },
    {
     "data": {
      "image/png": "[encoded data removed]",
      "text/plain": [
       "<Figure size 1296x504 with 2 Axes>"
      ]
     },
     "metadata": {
      "needs_background": "light"
     },
     "output_type": "display_data"
    },
    {
     "data": {
      "image/png": "[encoded data removed]",
      "text/plain": [
       "<Figure size 1296x504 with 2 Axes>"
      ]
     },
     "metadata": {
      "needs_background": "light"
     },
     "output_type": "display_data"
    },
    {
     "data": {
      "image/png": "[encoded data removed]",
      "text/plain": [
       "<Figure size 1296x504 with 2 Axes>"
      ]
     },
     "metadata": {
      "needs_background": "light"
     },
     "output_type": "display_data"
    },
    {
     "data": {
      "image/png": "[encoded data removed]",
      "text/plain": [
       "<Figure size 1296x504 with 2 Axes>"
      ]
     },
     "metadata": {
      "needs_background": "light"
     },
     "output_type": "display_data"
    }
   ],
   "source": [
    "\n",
    "from sklearn.metrics import silhouette_samples, silhouette_score\n",
    "# Source: https://scikit-learn.org/stable/modules/generated/sklearn.metrics.silhouette_samples.html#sklearn.metrics.silhouette_samples\n",
    "#   silhouette_samples - Silhouette Coefficients for each sample.\n",
    "# Source: https://scikit-learn.org/stable/modules/generated/sklearn.metrics.silhouette_score.html#sklearn.metrics.silhouette_score\n",
    "#   silhouette_score - Mean Silhouette Coefficient for all samples.\n",
    "\n",
    "import matplotlib.cm as cm\n",
    "\n",
    "for n_clusters in range(2,7):\n",
    "  \n",
    "  # Create a subplot with 1 row and 2 columns\n",
    "  fig, (ax1, ax2) = plt.subplots(1, 2)\n",
    "  fig.set_size_inches(18, 7)\n",
    "\n",
    "  # The 1st subplot is the silhouette plot\n",
    "  # The silhouette coefficient can range from -1, 1 but in this example all lie within [-0.1, 1]\n",
    "  ax1.set_xlim([-0.1, 1])\n",
    "  # The (n_clusters+1)*10 is for inserting blank space between silhouette\n",
    "  # plots of individual clusters, to demarcate them clearly.\n",
    "  ax1.set_ylim([0,X_scaled.shape[0]+(n_clusters+1)*10])\n",
    "\n",
    "  # Initialize the clusterer with n_clusters value and a random generator\n",
    "  # seed of 10 for reproducibility.\n",
    "  clusterer_=KMeans(n_clusters=n_clusters,random_state=10)\n",
    "  cluster_labels=clusterer_.fit_predict(X_scaled)\n",
    "\n",
    "  # The silhouette_score gives the average value for all the samples.\n",
    "  # This gives a perspective into the density and separation of the formed clusters\n",
    "  silhouette_avg=silhouette_score(X_scaled,cluster_labels)\n",
    "  print(\"For n_clusters =\", n_clusters,\"The average silhouette_score is :\",silhouette_avg)\n",
    "\n",
    "  # Compute the silhouette scores for each sample\n",
    "  sample_silhouette_values=silhouette_samples(X_scaled,cluster_labels)\n",
    "\n",
    "  # y_lower plot level of y - axis to start \n",
    "  y_lower=10\n",
    "  for i in range(n_clusters):\n",
    "    # Aggregate the silhouette scores for samples belonging to cluster i, and sort them\n",
    "    ith_cluster_silhouette_values=sample_silhouette_values[cluster_labels == i]\n",
    "    ith_cluster_silhouette_values.sort()\n",
    "    size_cluster_i = ith_cluster_silhouette_values.shape[0]\n",
    "    y_upper=y_lower+size_cluster_i\n",
    "    color=cm.nipy_spectral(float(i)/n_clusters)\n",
    "    ax1.fill_betweenx(np.arange(y_lower, y_upper),0,ith_cluster_silhouette_values,\n",
    "                      facecolor=color, edgecolor=color, alpha=0.7)\n",
    "\n",
    "    # Label the silhouette plots with their cluster numbers at the middle\n",
    "    ax1.text(-0.05,y_lower+0.5*size_cluster_i,str(i))\n",
    "\n",
    "    # Compute the new y_lower for next plot\n",
    "    y_lower=y_upper+10  # 10 for the 0 samples\n",
    "\n",
    "  # The vertical line for average silhouette score of all the values\n",
    "  ax1.axvline(x=silhouette_avg, color=\"red\", linestyle=\"--\")\n",
    "  ax1.set_yticks([])  # Clear the yaxis labels / ticks\n",
    "  ax1.set_xticks([-0.1,0,0.2,0.4,0.6,0.8,1])\n",
    "\n",
    "  ###########################################################################################################\n",
    "\n",
    "  # 2nd Plot showing the actual clusters formed\n",
    "  colors=cm.nipy_spectral(cluster_labels.astype(float)/n_clusters)\n",
    "  ax2.scatter(X_scaled[:,0],X_scaled[:,1],marker='.',s=30,lw=0,alpha=0.7,c=colors,edgecolor='k')\n",
    "\n",
    "  # Labeling the clusters\n",
    "  centers=clusterer_.cluster_centers_\n",
    "  # Draw white circles at cluster centers\n",
    "  ax2.scatter(centers[:,0],centers[:,1],marker='o',c=\"white\",alpha=1,s=200,edgecolor='k')\n",
    "\n",
    "  for i,c in enumerate(centers):\n",
    "    ax2.scatter(c[0],c[1],marker='$%d$'%i,alpha=1,s=50,edgecolor='k')\n",
    "\n",
    "  ax2.set_title(\"The visualization of the clustered data.\")\n",
    "  ax2.set_xlabel(\"Feature space for the 1st feature\")\n",
    "  ax2.set_ylabel(\"Feature space for the 2nd feature\")\n",
    "\n",
    "  plt.suptitle((\"Silhouette analysis for KMeans clustering on sample data with n_clusters = %d\"%n_clusters),\n",
    "               fontsize=14, fontweight='bold')\n",
    "\n",
    "plt.show()"
   ]
  },
  {
   "cell_type": "markdown",
   "metadata": {
    "id": "3tfl0kCTabRm"
   },
   "source": [
    "### MiniBatchKMeans vs KMeans\n",
    "\n",
    "The MiniBatchKMeans is a variant of the KMeans algorithm which uses mini-batches to reduce the computation time, while still attempting to optimise the same objective function. Mini-batches are subsets of the input data, randomly sampled in each training iteration. These mini-batches drastically reduce the amount of computation required to converge to a local solution. In contrast to other algorithms that reduce the convergence time of k-means, mini-batch k-means produces results that are generally only slightly worse than the standard algorithm.\n",
    "\n",
    "The algorithm iterates between two major steps, similar to vanilla k-means. In the first step,  samples are drawn randomly from the dataset, to form a mini-batch. These are then assigned to the nearest centroid. In the second step, the centroids are updated. In contrast to k-means, this is done on a per-sample basis. For each sample in the mini-batch, the assigned centroid is updated by taking the streaming average of the sample and all previous samples assigned to that centroid. This has the effect of decreasing the rate of change for a centroid over time. These steps are performed until convergence or a predetermined number of iterations is reached.\n",
    "\n",
    "MiniBatchKMeans converges faster than KMeans, but the quality of the results is reduced. In practice this difference in quality can be quite small, as shown in the example and cited reference.\n",
    "\n",
    "Source: https://scikit-learn.org/stable/modules/clustering.html#mini-batch-kmeans"
   ]
  },
  {
   "cell_type": "code",
   "execution_count": 38,
   "metadata": {
    "colab": {
     "base_uri": "https://localhost:8080/"
    },
    "executionInfo": {
     "elapsed": 1566,
     "status": "ok",
     "timestamp": 1624205861968,
     "user": {
      "displayName": "Clash Clans",
      "photoUrl": "",
      "userId": "00562530571182710236"
     },
     "user_tz": -330
    },
    "id": "BQ5ZfRH2Rhlw",
    "outputId": "8b2c7094-0dd0-443d-e328-c25b5215d73c"
   },
   "outputs": [
    {
     "name": "stdout",
     "output_type": "stream",
     "text": [
      "The average silhouette_score for k-Means is : 0.9871946547960491 in 0.024735450744628906 seconds\n",
      "The average silhouette_score for k-MBMeans is : 0.785762062337742 in 0.06406164169311523 seconds\n"
     ]
    }
   ],
   "source": [
    "# p-Source: https://scikit-learn.org/stable/auto_examples/cluster/plot_mini_batch_kmeans.html#sphx-glr-auto-examples-cluster-plot-mini-batch-kmeans-py\n",
    "\n",
    "from sklearn.cluster import MiniBatchKMeans\n",
    "# Source: https://scikit-learn.org/stable/modules/generated/sklearn.cluster.MiniBatchKMeans.html#sklearn.cluster.MiniBatchKMeans\n",
    "\n",
    "# to compute time \n",
    "from time import time\n",
    "\n",
    "# Number of batches for k-MiniBatch-Means\n",
    "n_batches=4\n",
    "\n",
    "# #############################################################################\n",
    "# Compute clustering with Means\n",
    "k_means=KMeans(n_clusters=2,n_init=10)\n",
    "t_kmean=time()\n",
    "k_mean_labels_=k_means.fit_predict(X_scaled)\n",
    "# time tooked ----\n",
    "t_kmean=time()-t_kmean\n",
    "# The silhouette_score\n",
    "print('The average silhouette_score for k-Means is :',silhouette_score(X_scaled,k_mean_labels_),'in',t_kmean,'seconds')\n",
    "# #############################################################################\n",
    "\n",
    "# #############################################################################\n",
    "# Compute clustering with MiniBatchKMeans\n",
    "k_mbMean=MiniBatchKMeans(n_clusters=2, batch_size=n_batches,n_init=10)\n",
    "t_kMBMean=time()\n",
    "k_MBmean_labels_=k_mbMean.fit_predict(X_scaled)\n",
    "# time took ----\n",
    "t_kMBMean=time()-t_kMBMean\n",
    "# The silhouette_score\n",
    "print('The average silhouette_score for k-MBMeans is :',silhouette_score(X_scaled,k_MBmean_labels_),'in',t_kMBMean,'seconds')\n",
    "# #############################################################################"
   ]
  },
  {
   "cell_type": "code",
   "execution_count": 39,
   "metadata": {
    "colab": {
     "base_uri": "https://localhost:8080/",
     "height": 464
    },
    "executionInfo": {
     "elapsed": 687,
     "status": "ok",
     "timestamp": 1624205928989,
     "user": {
      "displayName": "Clash Clans",
      "photoUrl": "",
      "userId": "00562530571182710236"
     },
     "user_tz": -330
    },
    "id": "juAoPvIfgO77",
    "outputId": "643d9597-c126-4f2e-844b-bf56727d028e"
   },
   "outputs": [
    {
     "data": {
      "image/png": "[encoded data removed]",
      "text/plain": [
       "<Figure size 1440x720 with 3 Axes>"
      ]
     },
     "metadata": {},
     "output_type": "display_data"
    }
   ],
   "source": [
    "# \n",
    "from sklearn.metrics.pairwise import pairwise_distances_argmin\n",
    "# Source: https://scikit-learn.org/stable/modules/generated/sklearn.metrics.pairwise_distances_argmin.html#sklearn.metrics.pairwise_distances_argmin\n",
    "\n",
    "# #############################################################################\n",
    "# Plot result\n",
    "fig=plt.figure(figsize=(20,10))\n",
    "fig.subplots_adjust(left=0.02,right=0.98,bottom=0.05,top=0.9)\n",
    "\n",
    "# \n",
    "n_clusters=2\n",
    "# colurs \n",
    "colors = ['#4EACC5', '#FF9C34']\n",
    "\n",
    "\n",
    "# We want to have the same colors for the same cluster from the\n",
    "# MiniBatchKMeans and the KMeans algorithm. Let's pair the cluster centers per\n",
    "# closest one.\n",
    "k_means_cluster_centers=k_means.cluster_centers_\n",
    "order=pairwise_distances_argmin(k_means.cluster_centers_,k_mbMean.cluster_centers_)\n",
    "k_mbMean_cluster_centers=k_mbMean.cluster_centers_[order]\n",
    "k_means_labels=pairwise_distances_argmin(X_scaled,k_means_cluster_centers)\n",
    "k_mbMean_labels=pairwise_distances_argmin(X_scaled,k_mbMean_cluster_centers)\n",
    "\n",
    "\n",
    "# KMeans\n",
    "ax=fig.add_subplot(1, 3, 1)\n",
    "for k, col in zip(range(n_clusters), colors):\n",
    "  my_members=k_means_labels==k\n",
    "  cluster_center = k_means_cluster_centers[k]\n",
    "  ax.plot(X_scaled[my_members,0],X_scaled[my_members,1],'w',markerfacecolor=col,marker='.',markersize=10)\n",
    "  ax.plot(k_means_cluster_centers[k,0],k_means_cluster_centers[k,1],'o',markerfacecolor=col,markeredgecolor='k',markersize=6)\n",
    "ax.set_title('KMeans')\n",
    "ax.set_xticks(()),ax.set_yticks(())\n",
    "ax.text(0.2,0.8,'train time: %.2fs\\ninertia: %f'%(t_kmean,k_means.inertia_))\n",
    "\n",
    "# MiniBatchKMeans\n",
    "ax=fig.add_subplot(1,3,2)\n",
    "for k, col in zip(range(n_clusters),colors):\n",
    "  my_members=k_mbMean_labels==k\n",
    "  cluster_center=k_mbMean_cluster_centers[k]\n",
    "  ax.plot(X_scaled[my_members,0],X_scaled[my_members,1],'w',markerfacecolor=col, marker='.',markersize=10)\n",
    "  ax.plot(k_mbMean_cluster_centers[k,0],k_mbMean_cluster_centers[k,1],'o',markerfacecolor=col,markeredgecolor='k',markersize=6)\n",
    "ax.set_title('MiniBatchKMeans')\n",
    "ax.set_xticks(()),ax.set_yticks(())\n",
    "ax.text(0.2,0.8,'train time: %.2fs\\ninertia: %f'%(t_kMBMean,k_mbMean.inertia_))\n",
    "\n",
    "# Difference\n",
    "# Initialise the different array to all False\n",
    "different=(k_mbMean_labels==-1)\n",
    "ax = fig.add_subplot(1,3,3)\n",
    "\n",
    "for k in range(n_clusters):\n",
    "    different+=((k_means_labels == k)!=(k_mbMean_labels == k))\n",
    "\n",
    "identic=np.logical_not(different)\n",
    "ax.plot(X_scaled[identic,0],X_scaled[identic,1],'w',markerfacecolor='#bbbbbb',marker='.',markersize=10)\n",
    "ax.plot(X_scaled[different,0],X_scaled[different,1],'w',markerfacecolor='m',marker='.',markersize=10)\n",
    "ax.set_title('Difference')\n",
    "ax.set_xticks(()),ax.set_yticks(())\n",
    "\n",
    "plt.show()"
   ]
  },
  {
   "cell_type": "code",
   "execution_count": null,
   "metadata": {},
   "outputs": [],
   "source": []
  }
 ],
 "metadata": {
  "colab": {
   "authorship_tag": "ABX9TyObvPFTBnIf5ZEN4rB9SGxX",
   "collapsed_sections": [
    "BDR-6t_fBzbY",
    "p_9xvsa9eF-K",
    "wkIzlskFzBwA",
    "YCpvp86najOK",
    "I096GF4QbvBy",
    "Hpl75pxfjxWQ",
    "g6tBa9Hno7Jr",
    "38xqV75-yFUT",
    "MQHBp8yK3BBw",
    "3tfl0kCTabRm"
   ],
   "name": "data_analysis_customers.ipynb",
   "provenance": []
  },
  "kernelspec": {
   "display_name": "Python 3 (ipykernel)",
   "language": "python",
   "name": "python3"
  },
  "language_info": {
   "codemirror_mode": {
    "name": "ipython",
    "version": 3
   },
   "file_extension": ".py",
   "mimetype": "text/x-python",
   "name": "python",
   "nbconvert_exporter": "python",
   "pygments_lexer": "ipython3",
   "version": "3.10.6"
  }
 },
 "nbformat": 4,
 "nbformat_minor": 1
}
